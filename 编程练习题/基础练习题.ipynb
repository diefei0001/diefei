{
 "cells": [
  {
   "cell_type": "code",
   "execution_count": null,
   "metadata": {},
   "outputs": [],
   "source": [
    "'''计算pizza大小'''\n",
    "\n",
    "import math\n",
    "print(\"this program will help you calculate the area of pizza\")\n",
    "userinput_radius = float(input(\"please enter the radius\"))\n",
    "print(\"the area is\",area:=userinput_radius**2*math.pi)\n"
   ]
  },
  {
   "cell_type": "code",
   "execution_count": null,
   "metadata": {},
   "outputs": [],
   "source": [
    "'''℉转℃'''\n",
    "userinput_F = float(input(\"请输入一个华氏摄氏度\"))\n",
    "print(\"摄氏度是:\",transform_to_C:=(userinput_F-32)/1.8)"
   ]
  },
  {
   "cell_type": "code",
   "execution_count": null,
   "metadata": {},
   "outputs": [],
   "source": [
    "'''贵宾问题'''\n",
    "userinput_number =input(\"请输入一个三位数100-999\")\n",
    "total=sum(map(int,userinput_number))\n",
    "print(\"贵宾您好\"if total%7==0 else\"宾客您好\")"
   ]
  },
  {
   "cell_type": "code",
   "execution_count": null,
   "metadata": {},
   "outputs": [],
   "source": [
    "'''求根公式'''\n",
    "a,b,c = eval(input(\"请输入a,b,c的数值,用','分隔\"))\n",
    "print(x1:=(-b+(b**2-4*a*c)**0.5)/(2*a),x2:=(-b-(b**2-4*a*c)**0.5)/(2*a)) if b**2-4*a*c>=0 else print(\"没有实数解\")"
   ]
  },
  {
   "cell_type": "code",
   "execution_count": 32,
   "metadata": {},
   "outputs": [
    {
     "name": "stdout",
     "output_type": "stream",
     "text": [
      "价格最低的商场为天虹\n"
     ]
    }
   ],
   "source": [
    "'''百货公司折扣'''\n",
    "def TianHong_price(total_price:float) -> float:\n",
    "    discounts =[(1000,0.92),(3000,0.85),(5000,0.78)]\n",
    "    final_discount=0.7\n",
    "    for limit,discount in discounts:\n",
    "        if total_price<=limit:\n",
    "            final_discount=discount\n",
    "            break\n",
    "    return total_price*final_discount\n",
    "def YouYiXinTianDi_price(total_price:float) -> float:\n",
    "    return total_price if total_price<2000 else 2000+(total_price-2000)*0.7\n",
    "def DaLiFa_price(total_price:float) -> float:\n",
    "    return total_price if total_price<500 else total_price-(70*total_price//500)\n",
    "price_list=[]\n",
    "while True:\n",
    "    userinput_price =int(input(\"请输入商品单价\"))\n",
    "    if userinput_price==0:\n",
    "        break\n",
    "    userinput_quantities =int(input(\"请输入商品数量\"))\n",
    "    price_list.append(userinput_price*userinput_quantities)\n",
    "total_price = sum(price_list)\n",
    "total_price_dict={TianHong_price(total_price):'天虹',YouYiXinTianDi_price(total_price):'友谊新天地',DaLiFa_price(total_price):'大力发'}\n",
    "print(f\"价格最低的商场为{total_price_dict[min(total_price_dict.keys())]}\")\n"
   ]
  },
  {
   "cell_type": "code",
   "execution_count": null,
   "metadata": {},
   "outputs": [],
   "source": [
    "'''猜数字问题'''\n",
    "target_number=78\n",
    "count=0\n",
    "while True:\n",
    "    userinput_guess_number = int(input(\"请猜测\"))\n",
    "    count+=1\n",
    "    if userinput_guess_number==target_number:\n",
    "        print(f\"猜对了,猜测次数为:{count}\")\n",
    "        break\n",
    "    print(\"谜底数字比你猜的要大\"if userinput_guess_number<target_number else \"谜底数字比你猜的要小\")"
   ]
  },
  {
   "cell_type": "code",
   "execution_count": null,
   "metadata": {},
   "outputs": [],
   "source": [
    "'''九九乘法表'''\n",
    "for i in range(1,10):\n",
    "    for j in range(1,i+1):\n",
    "        print(f\"{j:>2}*{i}\",end=' ')\n",
    "    print()"
   ]
  },
  {
   "cell_type": "code",
   "execution_count": null,
   "metadata": {},
   "outputs": [
    {
     "name": "stdout",
     "output_type": "stream",
     "text": [
      "(1.4, 140)\n",
      "71.42857142857144\n"
     ]
    },
    {
     "data": {
      "text/plain": [
       "'肥胖'"
      ]
     },
     "execution_count": 63,
     "metadata": {},
     "output_type": "execute_result"
    }
   ],
   "source": [
    "'''身体质量指数'''\n",
    "def check_info(height:float,weight:float) -> float:\n",
    "    BMI=weight/height**2\n",
    "    print(BMI)\n",
    "    health_info=[(18.5,\"偏瘦\"),(24,'正常'),(28,'偏胖')]\n",
    "    final_info ='肥胖'\n",
    "    for limit, info in health_info:\n",
    "        if BMI<limit:\n",
    "            final_info= info\n",
    "            break\n",
    "    return final_info\n",
    "userinput_data =eval(input(\"请输入身高,体重\"))\n",
    "print(userinput_data)\n",
    "check_info(*userinput_data)\n",
    "\n"
   ]
  },
  {
   "cell_type": "code",
   "execution_count": 4,
   "metadata": {},
   "outputs": [
    {
     "name": "stdout",
     "output_type": "stream",
     "text": [
      "[4, 7, 7, 10] [3]\n",
      "三等奖\n"
     ]
    }
   ],
   "source": [
    "'''抽奖游戏'''\n",
    "import random\n",
    "sorted_target_black_ball_list=sorted(random.randint(1,10) for _ in range(4))\n",
    "sorted_target_white_ball_list=[random.randint(1,5)]\n",
    "print(sorted_target_black_ball_list,sorted_target_white_ball_list)\n",
    "userinput_black=[i for i in (eval(input(\"请输入4位黑球数字,用，分隔\")))]\n",
    "userinput_white=[eval(input(\"[请输入1位白球数字]\"))]\n",
    "Acc_white=1 if userinput_white==sorted_target_white_ball_list else 0\n",
    "Acc_black =0\n",
    "Acc_black += sum(1 for user_guess, target in zip(userinput_black, sorted_target_black_ball_list) if user_guess == target)\n",
    "your_number=(Acc_black,Acc_white)\n",
    "prize_level = {\n",
    "            (4, 1): \"一等奖\",\n",
    "            (4, 0): \"二等奖\",\n",
    "            (3, 1): \"三等奖\",\n",
    "            (3, 0): \"四等奖\",\n",
    "            (2, 1): \"五等奖\",\n",
    "            (2, 0): \"六等奖\"\n",
    "        }\n",
    "match your_number:\n",
    "    case(x,y) if x in {4,3,2} and y in{0,1}:\n",
    "        print(f\"{prize_level[(x,y)]}\")  \n",
    "    case _:\n",
    "        print(\"没中奖\") "
   ]
  },
  {
   "cell_type": "code",
   "execution_count": null,
   "metadata": {},
   "outputs": [],
   "source": [
    "'''二进制转换'''\n",
    "userinput_number=int(input(\"请输入数字\"))\n",
    "calculate_number=userinput_number\n",
    "remainder_list=[]\n",
    "remainder=userinput_number%2\n",
    "while True:\n",
    "    quotient=calculate_number//2\n",
    "    remainder=calculate_number%2\n",
    "    remainder_list.append(remainder)\n",
    "    calculate_number=quotient\n",
    "    if quotient==0:\n",
    "        break\n",
    "remainder_list.reverse()\n",
    "str1=\"\".join(map(str,remainder_list))\n",
    "print(f\"{userinput_number}={str1}(B)\")"
   ]
  },
  {
   "cell_type": "code",
   "execution_count": null,
   "metadata": {},
   "outputs": [],
   "source": [
    "'''名单去重'''\n",
    "from collections import Counter\n",
    "myfriend=[\n",
    "    \"彭家龙\",\"托乐克\",\"刘俊\",\n",
    "    \"李立恒\",\"许海骏\",\"吴展鹏\",\n",
    "    \"托乐克\",\"托乐克\",\"托乐克\",\n",
    "    \"刘俊\",\"李立恒\",\"托乐克\",\n",
    "    \"刘俊\",\"许海骏\",\"彭家龙\",\n",
    "    \"许海骏\"\n",
    "]\n",
    "def delete_name(name:str) -> str:\n",
    "    global myfriend\n",
    "    myfriend=[friend for friend in myfriend if friend!=name]\n",
    "    return myfriend\n",
    "if __name__ ==\"__main__\":\n",
    "    userinput=input(\"请输入名字\")\n",
    "    deleted_list=delete_name(userinput)\n",
    "    print(f\"删除联系人后的名单为{deleted_list}\")\n",
    "    counter=Counter(myfriend)\n",
    "    print(f\"去重后的名单为{list(counter.keys())}\")"
   ]
  },
  {
   "cell_type": "code",
   "execution_count": 1,
   "metadata": {},
   "outputs": [
    {
     "name": "stdout",
     "output_type": "stream",
     "text": [
      "7位评委打分为[76.7, 92.6, 85.5, 82.0, 83.7, 71.2, 79.2]\n",
      "去掉一个最高分、一个最低分后的打分（由高到低）:[85.5, 83.7, 82.0, 79.2, 76.7]\n",
      "该选手的最终得分为81.41999999999999\n"
     ]
    }
   ],
   "source": [
    "'''演讲比赛评分'''\n",
    "import random\n",
    "userinput_judges_quantities=int(input(\"请输入评委数量\"))\n",
    "score_list=[70+round(random.random()*30,1)for _ in range(userinput_judges_quantities)]\n",
    "print(f\"{userinput_judges_quantities}位评委打分为{score_list}\")\n",
    "sorted_score_list=sorted(score_list,reverse=True)[1:-1]\n",
    "print(f\"去掉一个最高分、一个最低分后的打分（由高到低）:{sorted_score_list}\")\n",
    "finally_score = sum(sorted_score_list)/len(sorted_score_list)\n",
    "print(f\"该选手的最终得分为{finally_score}\")\n"
   ]
  },
  {
   "cell_type": "code",
   "execution_count": 1,
   "metadata": {},
   "outputs": [
    {
     "name": "stdout",
     "output_type": "stream",
     "text": [
      "第1行的内容为: 莫绍谦的眼睛虚无地盯着前方，仿佛陷在了回忆里\n",
      "第2行的内容为: 他缓缓地说：“知道他去世的那天，我一个人坐在这个阁楼里，没有哭\n",
      "第3行的内容为: 我默默地把这些东西收拾好，然后对着这张照片坐了一夜。第二天我就回国了\n",
      "第4行的内容为: 紧锣密鼓地筹备复兴莫氏的事情。我在这里待了二十三年，所有的回忆、所有的朋友都在这里\n",
      "第5行的内容为: 那天晚上是一个告别，我告诉自己，要想变得强大，就要学会割舍\n",
      "第6行的内容为: 他看了看我，“可是，我放不下父亲的死，他是我人生的导师，虽然时常见不到他\n",
      "第7行的内容为: 但他对我的影响很大。所以，关于报仇，我一刻也没有忘记过\n",
      "情报是:前放告世把以\n"
     ]
    }
   ],
   "source": [
    "'''情报编译'''\n",
    "code_book =('''莫绍谦的眼睛虚无地盯着前方，仿佛陷在了回忆里\n",
    "他缓缓地说：“知道他去世的那天，我一个人坐在这个阁楼里，没有哭\n",
    "我默默地把这些东西收拾好，然后对着这张照片坐了一夜。第二天我就回国了\n",
    "紧锣密鼓地筹备复兴莫氏的事情。我在这里待了二十三年，所有的回忆、所有的朋友都在这里\n",
    "那天晚上是一个告别，我告诉自己，要想变得强大，就要学会割舍\n",
    "他看了看我，“可是，我放不下父亲的死，他是我人生的导师，虽然时常见不到他\n",
    "但他对我的影响很大。所以，关于报仇，我一刻也没有忘记过''')\n",
    "code_book_list=code_book.splitlines()\n",
    "for index ,line in enumerate(code_book.splitlines()):\n",
    "    print(f\"第{index+1}行的内容为: {line}\")\n",
    "code=\"0011,0511,0411,0111,0204,0611\"\n",
    "code_list=[code for code in code.split(\",\")]\n",
    "information=\"\"\n",
    "for code in code_list:\n",
    "    row=int(code[:2])\n",
    "    column =int(code[2:])\n",
    "    information+=code_book_list[row][column]\n",
    "print(f\"情报是:{information}\")"
   ]
  },
  {
   "cell_type": "code",
   "execution_count": null,
   "metadata": {},
   "outputs": [],
   "source": [
    "'''回文检测'''\n",
    "def check_Palindrome(text:str) -> str:\n",
    "    print(f\"{text}回文\"if text==text[::-1]else f\"{text}不回文\")\n",
    "if __name__==\"__main__\":\n",
    "    userinput_str= input(\"请输入文本\")\n",
    "    check_Palindrome(userinput_str)"
   ]
  },
  {
   "cell_type": "code",
   "execution_count": null,
   "metadata": {},
   "outputs": [],
   "source": [
    "'''字符串循环左移'''\n",
    "userinput_str=input('请输入字符串')\n",
    "userinput_times=int(input(\"请输入向左循环次数\"))\n",
    "print(userinput_str[userinput_times:]+userinput_str[0:userinput_times])"
   ]
  },
  {
   "cell_type": "code",
   "execution_count": 12,
   "metadata": {},
   "outputs": [
    {
     "name": "stdout",
     "output_type": "stream",
     "text": [
      "703\n"
     ]
    }
   ],
   "source": [
    "'''Excel列转十进制'''\n",
    "alphabet_list=[letter for letter in \"A B C D E F G H I J K L M N O P Q R S T U V W X Y Z\".split(\" \")]\n",
    "alphabet_list2=[letter1+letter2 for letter1 in alphabet_list for letter2 in alphabet_list]\n",
    "alphabet_list3=[letter1+letter2+letter3 for letter1 in alphabet_list for letter2 in alphabet_list for letter3 in alphabet_list]\n",
    "final_list=alphabet_list+alphabet_list2+alphabet_list3\n",
    "userinput=\"AAA\"\n",
    "result=final_list.index(userinput)+1\n",
    "print(result)"
   ]
  },
  {
   "cell_type": "code",
   "execution_count": 8,
   "metadata": {},
   "outputs": [
    {
     "name": "stdout",
     "output_type": "stream",
     "text": [
      "18278\n"
     ]
    }
   ],
   "source": [
    "'''Excel列转十进制'''\n",
    "number=0\n",
    "userinput_str=input(\"请输入\")\n",
    "for chr in userinput_str:\n",
    "    x=ord(chr)-ord(\"A\")+1\n",
    "    number = 26*number+x\n",
    "print(number)"
   ]
  },
  {
   "cell_type": "code",
   "execution_count": 9,
   "metadata": {},
   "outputs": [
    {
     "name": "stdout",
     "output_type": "stream",
     "text": [
      "703\n"
     ]
    }
   ],
   "source": [
    "'''Excel列转十进制'''\n",
    "alphabet_list = [letter for letter in \"A B C D E F G H I J K L M N O P Q R S T U V W X Y Z\".split(\" \")]\n",
    "userinput_str=input(\"请输入\")\n",
    "acc = 0\n",
    "for index, chr in enumerate(userinput_str[::-1]):\n",
    "    acc += (alphabet_list.index(chr) + 1) * (26 ** index)\n",
    "print(acc)"
   ]
  },
  {
   "cell_type": "code",
   "execution_count": 3,
   "metadata": {},
   "outputs": [
    {
     "name": "stdout",
     "output_type": "stream",
     "text": [
      "商品编号    商品名称    商品价格    商品数量    小计    "
     ]
    }
   ],
   "source": [
    "'''完善购物车'''\n",
    "instock_dict={101:[\"签字笔(黑)\",3],\n",
    "           102:[\"签字笔(红)\",3],\n",
    "           103:[\"荧光笔\",10],\n",
    "           104:[\"铅笔\",2],\n",
    "           201:[\"笔记本A4\",18.5],\n",
    "           202:[\"笔记本B5\",14],\n",
    "           203:[\"练习本A4\",2.5],\n",
    "           204:[\"练习本B5\",2]\n",
    "           }\n",
    "cart_dict={}\n",
    "while True:\n",
    "    index_input=int(input(\"请输入编号\"))\n",
    "    if index_input==-1:\n",
    "        break\n",
    "    elif index_input not in instock_dict.keys():\n",
    "        print(\"商品编号不存在，请重新输入\")\n",
    "        continue\n",
    "    elif index_input not in cart_dict.keys():\n",
    "        quantities=int(input(\"请输入数量\"))\n",
    "        _=instock_dict[index_input]\n",
    "        _.append(quantities)\n",
    "        cart_dict[index_input]=_\n",
    "    else:\n",
    "        print(\"已存在，请输入修改数量\")\n",
    "        modity_number=int(input(\"请输入修改数量\"))\n",
    "        if modity_number==0:\n",
    "            del cart_dict[index_input]\n",
    "        else:\n",
    "            _=instock_dict[index_input]\n",
    "            _.append(modity_number)\n",
    "            cart_dict[index_input]=_\n",
    "info1=(\"商品编号\",\"商品名称\",\"商品价格\",\"商品数量\",\"小计\")\n",
    "print(f\"{info1[0]:<10}{info1[1]:<10}{info1[2]:<10}{info1[3]:<10}{info1[4]:<10}\",end='')\n",
    "acc=0\n",
    "for index in cart_dict.keys():\n",
    "    name=cart_dict[index][0]\n",
    "    price=cart_dict[index][1]\n",
    "    quantities=cart_dict[index][2]\n",
    "    total=price*quantities\n",
    "    acc+=total\n",
    "    print(f\"\\n{index:<10} {name:<10}{price:<10}{quantities:<10}{total:<10}\",end=\"\")\n",
    "print(f\"\\n总价为{acc}\")"
   ]
  },
  {
   "cell_type": "code",
   "execution_count": null,
   "metadata": {},
   "outputs": [],
   "source": [
    "'''用户注册'''\n",
    "userdata_dict={}\n",
    "while True:\n",
    "    username_input=input(\"请输入用户名\")\n",
    "    if username_input==\"-1\":\n",
    "        break\n",
    "    if username_input in userdata_dict.keys():\n",
    "        print(\"用户名存在,请重新输入\")\n",
    "        continue\n",
    "    passwd_input=input(\"请输入密码\")\n",
    "    userdata_dict[username_input]=passwd_input\n",
    "for name,passwd in userdata_dict.items():\n",
    "    print(f\"{name}:{passwd}\")\n",
    "    "
   ]
  },
  {
   "cell_type": "code",
   "execution_count": 2,
   "metadata": {},
   "outputs": [
    {
     "name": "stdout",
     "output_type": "stream",
     "text": [
      "30\n"
     ]
    }
   ],
   "source": [
    "''''城市数量'''\n",
    "city_dict = {\n",
    "    '广东': [\"广州\", \"深圳\", \"佛山\", \"东莞\", \"珠海\", \"中山\", \"惠州\", \"汕头\", \"湛江\", \"肇庆\"],\n",
    "    '江苏': [\"南京\", \"苏州\", \"无锡\", \"常州\", \"南通\", \"扬州\", \"盐城\", \"徐州\", \"连云港\", \"淮安\"],\n",
    "    '浙江': [\"杭州\", \"宁波\", \"温州\", \"绍兴\", \"嘉兴\", \"金华\", \"台州\", \"丽水\", \"湖州\", \"舟山\"]\n",
    "}\n",
    "new_list=[item for sublist in city_dict.values() for item in sublist]\n",
    "quantities=len(new_list)\n",
    "print(quantities)\n"
   ]
  },
  {
   "cell_type": "code",
   "execution_count": null,
   "metadata": {},
   "outputs": [],
   "source": [
    "'''点菜'''\n",
    "food_dict={\n",
    "    101:{\"鱼香肉丝\":38},\n",
    "    102:{\"小炒肉\":32},\n",
    "    103:{\"红烧鲈鱼\":48},\n",
    "    104:{\"四喜丸子\":48},\n",
    "    201:{\"红油鸡丝\":38},\n",
    "    202:{\"凉拌土豆丝\":22},\n",
    "    203:{\"芥末木耳\":25},\n",
    "    204:{\"白灼青菜\":20},\n",
    "}\n",
    "food_list=[]\n",
    "while True:\n",
    "    food_name_input=int(input(\"请输入编号\"))\n",
    "    if food_name_input==-1:\n",
    "        break\n",
    "    if food_name_input not in food_dict.keys():\n",
    "        print(\"菜单编号不存在，请重新输入\")\n",
    "        continue\n",
    "    food_list.append(food_name_input)\n",
    "print(food_list)\n",
    "print(\"你的点菜情况如下:\")\n",
    "total_price=0\n",
    "for index in food_list:\n",
    "    for keys,values,in food_dict[index].items():\n",
    "        total_price+=values\n",
    "        print(f\"{keys:<5}\",end=\"\")\n",
    "print(f\"\\n总价:{total_price}\")"
   ]
  },
  {
   "cell_type": "code",
   "execution_count": null,
   "metadata": {},
   "outputs": [],
   "source": [
    "'''计算平均成绩'''\n",
    "def calculator(*score) -> int:\n",
    "    return sum(score)/len(score)\n",
    "score_input=eval(input(\"请输入成绩,用，分隔\"))\n",
    "print(f\"平均分为{calculator(*score_input)}\")\n"
   ]
  },
  {
   "cell_type": "code",
   "execution_count": null,
   "metadata": {},
   "outputs": [],
   "source": [
    "'''五角星'''\n",
    "import turtle\n",
    "turtle.title(\"五角星\")\n",
    "turtle.color(\"red\",\"red\")\n",
    "turtle.begin_fill()\n",
    "for _ in range(5):\n",
    "    turtle.forward(100)\n",
    "    turtle.left(72)\n",
    "    turtle.forward(100)\n",
    "    turtle.right(180-36)\n",
    "turtle.end_fill()\n",
    "turtle.done()"
   ]
  },
  {
   "cell_type": "code",
   "execution_count": null,
   "metadata": {},
   "outputs": [],
   "source": [
    "'''三角形'''\n",
    "import turtle\n",
    "turtle.left(180)\n",
    "angle=120\n",
    "forward_distance=200\n",
    "times_acc=0\n",
    "_=False\n",
    "turtle.pencolor(\"blue\")\n",
    "while True:\n",
    "    turtle.right(angle)\n",
    "    if _:\n",
    "        angle=120\n",
    "    times_acc+=1\n",
    "    if times_acc==3:\n",
    "        forward_distance=100\n",
    "        angle=60\n",
    "        _=True\n",
    "    turtle.forward(forward_distance)\n",
    "    if times_acc==6:\n",
    "        break\n",
    "turtle.right(60)\n",
    "turtle.forward(100)\n",
    "turtle.done()\n"
   ]
  },
  {
   "cell_type": "code",
   "execution_count": null,
   "metadata": {},
   "outputs": [],
   "source": [
    "'''三角形'''\n",
    "import turtle\n",
    "def print_triangle(x=0,y=0):\n",
    "    turtle.goto(x,y)\n",
    "    for _ in range(3):\n",
    "        turtle.forward(100)\n",
    "        turtle.left(120)\n",
    "if __name__==\"__main__\":\n",
    "    print_triangle()\n",
    "    print_triangle(100,0)\n",
    "    print_triangle(50,50*3**0.5)"
   ]
  },
  {
   "cell_type": "code",
   "execution_count": null,
   "metadata": {},
   "outputs": [],
   "source": [
    "'''回环'''\n",
    "import turtle\n",
    "forward_distance=5\n",
    "turtle.left(180)\n",
    "for _ in range(54):\n",
    "    turtle.forward(forward_distance)\n",
    "    turtle.left(90)\n",
    "    forward_distance+=3\n",
    "turtle.forward(forward_distance)\n",
    "turtle.done()"
   ]
  },
  {
   "cell_type": "code",
   "execution_count": null,
   "metadata": {},
   "outputs": [],
   "source": [
    "'''五星红旗'''\n",
    "# coding=utf-8\n",
    "'''\n",
    "Created on 2014-11-17\n",
    "@author: Neo\n",
    "\n",
    "Update on 2017/9/27\n",
    "@author: Zhoutaoccu\n",
    "#修正了五角星的边长和外接圆半径之间的关系；\n",
    "#修正了4小五角星朝向不正对大五角星的错误\n",
    "\n",
    "Update on 2022/10/14\n",
    "@author: vmomenv\n",
    "#修正了旗帜黑边和五角星黑边的问题；\n",
    "'''\n",
    "import turtle\n",
    "import math\n",
    "\n",
    "def draw_polygon(aTurtle, size=50, n=3):\n",
    "    ''' 绘制正多边形\n",
    "\n",
    "    args:\n",
    "        aTurtle: turtle对象实例\n",
    "        size: int类型，正多边形的边长\n",
    "        n: int类型，是几边形\n",
    "    '''\n",
    "    for i in range(n):\n",
    "        aTurtle.forward(size)\n",
    "        aTurtle.left(360.0 / n)\n",
    "\n",
    "\n",
    "def draw_n_angle(aTurtle, size=50, num=5, color=None):\n",
    "    ''' 绘制正n角形，默认为黄色\n",
    "\n",
    "    args:\n",
    "        aTurtle: turtle对象实例\n",
    "        size: int类型，正多角形的边长\n",
    "        n: int类型，是几角形\n",
    "        color: str， 图形颜色，默认不填色\n",
    "    '''\n",
    "    if color:\n",
    "        aTurtle.begin_fill()\n",
    "        aTurtle.fillcolor(color)\n",
    "    for i in range(num):\n",
    "        aTurtle.forward(size)\n",
    "        aTurtle.left(360.0 / num)\n",
    "        aTurtle.forward(size)\n",
    "        aTurtle.right(2 * 360.0 / num)\n",
    "    if color:\n",
    "        aTurtle.end_fill()\n",
    "\n",
    "\n",
    "def draw_5_angle(aTurtle=None, start_pos=(0, 0), end_pos=(0, 10), radius=100, color=None):\n",
    "    ''' 根据起始位置、结束位置和外接圆半径画五角星\n",
    "\n",
    "    args:\n",
    "        aTurtle: turtle对象实例\n",
    "        start_pos: int的二元tuple，要画的五角星的外接圆圆心\n",
    "        end_pos: int的二元tuple，圆心指向的位置坐标点\n",
    "        radius: 五角星外接圆半径\n",
    "        color: str， 图形颜色，默认不填色\n",
    "    '''\n",
    "    aTurtle = aTurtle or turtle.Turtle()\n",
    "    # size = radius * math.sin(math.pi/5)/math.sin(math.pi*2/5)计算公式错误，但不影响显示\n",
    "    size = radius * math.sin(math.pi / 5) / math.sin(math.pi * 3 / 10)  # 修正\n",
    "    angle = math.degrees(math.atan2(end_pos[1] - start_pos[1], end_pos[0] - start_pos[0]))\n",
    "    print(angle)\n",
    "    aTurtle.pencolor(\"yellow\")\n",
    "    aTurtle.penup()\n",
    "    aTurtle.goto(start_pos)\n",
    "    aTurtle.setheading(0)\n",
    "    aTurtle.left(angle)\n",
    "    aTurtle.fd(radius)\n",
    "    aTurtle.pendown()\n",
    "    aTurtle.right(math.degrees(math.pi * 9 / 10))\n",
    "    draw_n_angle(aTurtle, size, 5, color)\n",
    "\n",
    "\n",
    "def draw_5_star_flag(times=20.0):\n",
    "    ''' 绘制五星红旗\n",
    "\n",
    "    args:\n",
    "        times: 五星红旗的规格为30*20， times为倍数，默认大小为10倍， 即300*200\n",
    "    '''\n",
    "    width, height = 30 * times, 20 * times\n",
    "    # 初始化屏幕和海龟\n",
    "    window = turtle.Screen()\n",
    "    aTurtle = turtle.Turtle()\n",
    "    aTurtle.hideturtle()\n",
    "    aTurtle.speed(10)\n",
    "    # 画红旗\n",
    "    aTurtle.penup()\n",
    "    aTurtle.goto(-width / 2, height / 2)\n",
    "    aTurtle.pencolor(\"red\")\n",
    "    aTurtle.pendown()\n",
    "    aTurtle.begin_fill()\n",
    "    aTurtle.fillcolor('red')\n",
    "    aTurtle.fd(width)\n",
    "    aTurtle.right(90)\n",
    "    aTurtle.fd(height)\n",
    "    aTurtle.right(90)\n",
    "    aTurtle.fd(width)\n",
    "    aTurtle.right(90)\n",
    "    aTurtle.fd(height)\n",
    "    aTurtle.right(90)\n",
    "    aTurtle.end_fill()\n",
    "    # 画大星星\n",
    "    draw_5_angle(aTurtle, start_pos=(-10 * times, 5 * times), end_pos=(-10 * times, 8 * times), radius=3 * times,color='yellow')\n",
    "    # 画四个小星星\n",
    "    stars_start_pos = [(-5, 8), (-3, 6), (-3, 3), (-5, 1)]\n",
    "    for pos in stars_start_pos:\n",
    "        draw_5_angle(aTurtle, start_pos=(pos[0] * times, pos[1] * times), end_pos=(-10 * times, 5 * times),radius=1 * times, color='yellow')\n",
    "        # 点击关闭窗口\n",
    "    window.exitonclick()"
   ]
  },
  {
   "cell_type": "code",
   "execution_count": null,
   "metadata": {},
   "outputs": [],
   "source": [
    "dict1 = {'a': 1, 'b': 2}\n",
    "dict2 = {'a':3,'c': 3, 'd': 4}\n",
    "dict_extend={keys:dict2[keys] for keys in dict2 if keys not in dict1.keys() }\n",
    "for key1 ,value1 in dict1.items():\n",
    "    for key2,value2 in dict2.items():\n",
    "        if key1 in key2:\n",
    "            dict1[key1]=value1+value2\n",
    "dict1.update(dict_extend)\n",
    "zipped=zip(dict1.keys(),dict1.values())\n",
    "to_list=list(zipped)\n",
    "print(to_list)\n",
    "sorted_list = sorted(to_list,key=lambda X :X[1],reverse=True)\n",
    "to_dict=dict(sorted_list)\n",
    "print(to_dict)"
   ]
  },
  {
   "cell_type": "code",
   "execution_count": 13,
   "metadata": {},
   "outputs": [
    {
     "name": "stdout",
     "output_type": "stream",
     "text": [
      "1156=6x1 + 5x8 + 1x64 + 1x512=622\n",
      "1156=622\n"
     ]
    }
   ],
   "source": [
    "'''R进制转十进制'''\n",
    "num_input=input(\"请输入数字，输入示例:011001.0001\")\n",
    "splited_str=num_input.split(\".\")\n",
    "dict={\"A\":10,\"B\":11,\"C\":12,\"D\":13,\"E\":14,\"F\":15}\n",
    "number_list_part1=[]\n",
    "bool_flag=0\n",
    "for chr in splited_str[0]:\n",
    "    try:\n",
    "       number_list_part1.append(int(chr))\n",
    "    except ValueError:\n",
    "        chr=dict[chr.upper()]\n",
    "        number_list_part1.append(chr)\n",
    "try:\n",
    "    number_list_part2=[]\n",
    "    for chr in splited_str[1]:\n",
    "        try:\n",
    "            number_list_part2.append(int(chr))\n",
    "        except ValueError:\n",
    "            chr=dict[chr.upper()]\n",
    "            number_list_part2.append(chr)\n",
    "except IndexError as e:\n",
    "    bool_flag=1\n",
    "base_input=input(\"请选择进制:2,8,10,16\")\n",
    "num_list=[]\n",
    "total_list=[]\n",
    "for index,num in enumerate(number_list_part1[::-1]):\n",
    "    result1=f\"{num}x{int(base_input)**index}\"\n",
    "    result2=int(num)*int(base_input)**index\n",
    "    total_list.append(result2)\n",
    "    num_list.append(result1)\n",
    "str3=\" + \".join(num_list)\n",
    "str1=\"\".join(map(str,number_list_part1))\n",
    "print(f\"{str1}={str3}={sum(total_list)}\")\n",
    "num_list2=[]\n",
    "total_list2=[]\n",
    "for index,num in enumerate(number_list_part2):\n",
    "    result1=f\"{num}x{int(base_input)**-(index+1)}\"\n",
    "    result2=int(num)*int(base_input)**-(index+1)\n",
    "    total_list2.append(result2)\n",
    "    num_list2.append(result1)\n",
    "str4=\" + \".join(num_list2)\n",
    "str2=\"\".join(map(str,number_list_part2))\n",
    "if bool_flag==0:\n",
    "    print(f\"{str2}={str4}={sum(total_list2)}\")\n",
    "print(f\"{num_input}={sum(total_list2)+sum(total_list)}\")"
   ]
  },
  {
   "cell_type": "code",
   "execution_count": 17,
   "metadata": {},
   "outputs": [
    {
     "name": "stdout",
     "output_type": "stream",
     "text": [
      "转换结果：110.6314631463\n"
     ]
    }
   ],
   "source": [
    "\"十进制转R进制\"\n",
    "number_full = input(\"请输入十进制数字, 输入示例: 100.1: \")\n",
    "\n",
    "hex_dict = {10: \"A\", 11: \"B\", 12: \"C\", 13: \"D\", 14: \"E\", 15: \"F\"}\n",
    "\n",
    "\n",
    "def split_str(str: str):\n",
    "    str_list = str.split(\".\")\n",
    "    Integer_part_number = int(str_list[0])\n",
    "    Decimal_part_number = float(\"0.\" + str_list[1]) if len(str_list) > 1 else 0\n",
    "    return Integer_part_number, Decimal_part_number\n",
    "\n",
    "\n",
    "def convert_to_base(number_full, base):\n",
    "    number_list = split_str(number_full)\n",
    "    Integer_part_number = number_list[0]\n",
    "    Decimal_part_number = number_list[1]\n",
    "\n",
    "\n",
    "    Rem_list_Integer = []\n",
    "    while Integer_part_number > 0:\n",
    "        Rem = Integer_part_number % base\n",
    "        Integer_part_number //= base\n",
    "        Rem_list_Integer.append(Rem)\n",
    "    \n",
    " \n",
    "    Acc_list_Decimal = []\n",
    "    for _ in range(10):  # 控制小数精度\n",
    "        Decimal_part_number *= base\n",
    "        int_part = int(Decimal_part_number)\n",
    "        Acc_list_Decimal.append(int_part)\n",
    "        Decimal_part_number -= int_part\n",
    "        if Decimal_part_number == 0:\n",
    "            break\n",
    "    \n",
    "\n",
    "    if base == 16:\n",
    "        Rem_list_Integer = [hex_dict.get(x, str(x)) for x in Rem_list_Integer]\n",
    "        Acc_list_Decimal = [hex_dict.get(x, str(x)) for x in Acc_list_Decimal]\n",
    "\n",
    "\n",
    "    result = \"\".join(map(str, Rem_list_Integer[::-1])) + \".\" + \"\".join(map(str, Acc_list_Decimal))\n",
    "    return result\n",
    "\n",
    "\n",
    "base = int(input(\"请选择进制数（2, 8, 16）: \"))\n",
    "\n",
    "\n",
    "result = convert_to_base(number_full, base)\n",
    "print(f\"转换结果：{result}\")"
   ]
  },
  {
   "cell_type": "code",
   "execution_count": 22,
   "metadata": {},
   "outputs": [
    {
     "name": "stdout",
     "output_type": "stream",
     "text": [
      "转换结果：58\n"
     ]
    }
   ],
   "source": [
    "'''二进制转十六进制'''\n",
    "binary_to_hex = {\n",
    "    \"0000\": \"0\",\n",
    "    \"0001\": \"1\",\n",
    "    \"0010\": \"2\",\n",
    "    \"0011\": \"3\",\n",
    "    \"0100\": \"4\",\n",
    "    \"0101\": \"5\",\n",
    "    \"0110\": \"6\",\n",
    "    \"0111\": \"7\",\n",
    "    \"1000\": \"8\",\n",
    "    \"1001\": \"9\",\n",
    "    \"1010\": \"A\",\n",
    "    \"1011\": \"B\",\n",
    "    \"1100\": \"C\",\n",
    "    \"1101\": \"D\",\n",
    "    \"1110\": \"E\",\n",
    "    \"1111\": \"F\"\n",
    "}\n",
    "binary_str=\"1011000\"\n",
    "reversed_binary_str=binary_str[::-1]\n",
    "while True:\n",
    "    if len(reversed_binary_str)%4==0:\n",
    "        break\n",
    "    reversed_binary_str+=\"0\"\n",
    "count=0\n",
    "acc_str=\"\"\n",
    "str_list=[]\n",
    "for chr in reversed_binary_str:\n",
    "    count+=1\n",
    "    acc_str+=chr\n",
    "    if count%4==0:\n",
    "        str_list.append(acc_str)\n",
    "        acc_str=\"\"\n",
    "final_list=list(map(lambda x :x[::-1],str_list))[::-1]\n",
    "hex_str=\"\".join([binary_to_hex.get(chr)for chr in final_list])\n",
    "print(f\"转换结果：{hex_str}\")"
   ]
  },
  {
   "cell_type": "code",
   "execution_count": 38,
   "metadata": {},
   "outputs": [
    {
     "name": "stdout",
     "output_type": "stream",
     "text": [
      "010100011010\n"
     ]
    }
   ],
   "source": [
    "\"\"\"十六进制转二进制\"\"\"\n",
    "binary_to_hex ={\n",
    "    '0': '0000', '1': '0001', '2': '0010', '3': '0011',\n",
    "    '4': '0100', '5': '0101', '6': '0110', '7': '0111',\n",
    "    '8': '1000', '9': '1001', 'A': '1010', 'B': '1011',\n",
    "    'C': '1100', 'D': '1101', 'E': '1110', 'F': '1111'\n",
    "}\n",
    "hex_str=\"51A\"\n",
    "binary_str=\"\".join([binary_to_hex.get(chrs)for chrs in hex_str])\n",
    "print(binary_str)"
   ]
  },
  {
   "cell_type": "code",
   "execution_count": 4,
   "metadata": {},
   "outputs": [
    {
     "name": "stdout",
     "output_type": "stream",
     "text": [
      "00011001\n"
     ]
    }
   ],
   "source": [
    "'''逻辑位移'''\n",
    "binary_str = \"01100100\"\n",
    "direction =\"右\"\n",
    "distance = 2\n",
    "str_list = [chr for chr in binary_str]\n",
    "if direction==\"右\":\n",
    "    for _ in range(distance):\n",
    "        str_list.pop()\n",
    "        str_list.insert(0,\"0\")\n",
    "elif direction ==\"左\":\n",
    "    for _ in range(distance):\n",
    "        del str_list[0]\n",
    "        str_list.append(\"0\")\n",
    "print(''.join(str_list))"
   ]
  },
  {
   "cell_type": "code",
   "execution_count": null,
   "metadata": {},
   "outputs": [],
   "source": [
    "'''算数移位'''\n",
    "binary_str=\"1100110\"\n",
    "direction =\"右\"\n",
    "distance =2\n",
    "if direction==\"左\":\n",
    "    new_str=binary_str[distance:]+\"0\"*distance\n",
    "elif direction==\"右\":\n",
    "    new_str=binary_str[0]*distance+binary_str[:len(binary_str)-distance]\n",
    "print(new_str)"
   ]
  },
  {
   "cell_type": "code",
   "execution_count": null,
   "metadata": {},
   "outputs": [],
   "source": [
    "'''逻辑运算'''\n",
    "def logic_math(binary_str1:str,binary_str2:str,mode:str):\n",
    "    zipped_chr = zip(binary_str1,binary_str2)\n",
    "    ACC_STR=\"\"\n",
    "    match mode:\n",
    "        case \"And\":\n",
    "            for chr1,chr2 in zipped_chr:\n",
    "                ACC_STR+=\"1\"if chr1==\"1\"and chr2==\"1\"else\"0\"\n",
    "        case \"Or\":\n",
    "            for chr1,chr2 in zipped_chr:\n",
    "                ACC_STR+=\"1\"if chr1==\"1\"or chr2==\"1\"else\"0\"\n",
    "        case \"Xor\":\n",
    "            for chr1,chr2 in zipped_chr:\n",
    "                ACC_STR+=\"0\"if chr1==chr2 else\"1\"\n",
    "        case _:\n",
    "            print(\"请检查选择的运算\")\n",
    "    return ACC_STR\n",
    "def Not(binary_str:str):\n",
    "    binary_str_list=[chr for chr in binary_str]\n",
    "    for i in range(0,len(binary_str)):\n",
    "        binary_str_list[i]=\"0\" if binary_str_list[i]==\"1\" else \"1\"\n",
    "    new_str=\"\".join(binary_str_list)\n",
    "    return new_str\n",
    "\n",
    "binary_str1 = \"11001101\"\n",
    "binary_str2 = \"00110010\"\n",
    "mode = \"Xor\"\n",
    "result = logic_math(binary_str1,binary_str2,mode)\n",
    "print(result)"
   ]
  },
  {
   "cell_type": "code",
   "execution_count": null,
   "metadata": {},
   "outputs": [],
   "source": [
    "\"\"\"二进制加法\"\"\"\n",
    "def add(binary_str1,binary_str2):\n",
    "    zipped = zip(map(int,binary_str1[::-1]),map(int,binary_str2[::-1]))\n",
    "    result_list = []\n",
    "    for int1 , int2 in zipped:\n",
    "        result=int1+int2      \n",
    "        result_list.append(result)\n",
    "    for index, ints in enumerate(result_list):\n",
    "        try:\n",
    "            if ints==2:\n",
    "                result_list[index]=0\n",
    "                result_list[index+1]+=1\n",
    "        except IndexError:\n",
    "            result_list.append(1)\n",
    "    if result_list[len(result_list)-1]==3:\n",
    "        result_list[len(result_list)-1]=1\n",
    "        result_list.append(1)\n",
    "    final_str=\"\".join(map(str,result_list[::-1]))\n",
    "    return final_str\n",
    "binary_number_input1=input(\"请输入二进制数\")\n",
    "binary_number_input2=input(\"请输入二进制数\")\n",
    "if len(binary_number_input1)!=len(binary_number_input2):\n",
    "    print(\"请检查长度！\")\n",
    "else:\n",
    "    print(add(binary_number_input1,binary_number_input2))"
   ]
  },
  {
   "cell_type": "code",
   "execution_count": null,
   "metadata": {},
   "outputs": [],
   "source": [
    "'''溢出计算器'''\n",
    "def over_count(k:int,base:int,number:int):\n",
    "    number_max = base**(k-1)-1\n",
    "    number_min = -(base**(k-1))\n",
    "    print(f\"范围为:[{number_min},{number_max}]\")\n",
    "    over_number = number-number_max if number>number_max else 0\n",
    "    real_number = number_min+ (over_number-1)\n",
    "    return real_number\n",
    "print(f\"实际值为：{over_count(8,2,130)}\")"
   ]
  },
  {
   "cell_type": "code",
   "execution_count": null,
   "metadata": {},
   "outputs": [],
   "source": []
  }
 ],
 "metadata": {
  "kernelspec": {
   "display_name": "pythonProject",
   "language": "python",
   "name": "python3"
  },
  "language_info": {
   "codemirror_mode": {
    "name": "ipython",
    "version": 3
   },
   "file_extension": ".py",
   "mimetype": "text/x-python",
   "name": "python",
   "nbconvert_exporter": "python",
   "pygments_lexer": "ipython3",
   "version": "3.11.10"
  }
 },
 "nbformat": 4,
 "nbformat_minor": 2
}
