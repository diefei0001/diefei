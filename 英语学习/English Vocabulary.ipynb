{
 "cells": [
  {
   "cell_type": "markdown",
   "metadata": {},
   "source": [
    "# zoo\n",
    "> it has these means:\n",
    "[mean-n]: a palce where animals are kept for *public display*\n",
    "[mean-n]: a *chaotic* or *crowded* situation/place\n",
    "> we will see it as:\n",
    "- *family activities* :\"take kids to zoo\"\n",
    "- *animal* :zoo conversation programs\"\n",
    "- *travel* : \"the best zoos in the world\"\n",
    "> we should use it in these ways:\n",
    "1. *go*/*visit* [the] zoo\n",
    "    \" they go to the zoo\"\n",
    "2. [at] the zoo\n",
    "    \"they stayed at the zoo all day\"\n",
    "3. zoo keeper ; zoo animals\n",
    "    \"he works as a zoo keeper so he can see zoo animals frquently\"\n",
    "> its varieties:\n",
    "[coutable noun in mean1]:zoos "
   ]
  },
  {
   "cell_type": "markdown",
   "metadata": {},
   "source": [
    "# yourself\n",
    "> it has these means:\n",
    "[mean-p]:use follow you as object \n",
    "[mean-p]：to improve tone，emphasize *personally*\n",
    "> we will see it as:\n",
    "- *independent* :\" do it  yourself\"\n",
    "- *polite* : \"help yourself\"\n",
    "- *personally* :\" You yourself said it!!\"\n",
    "> we should use it in these ways:\n",
    "1. [by] yourself : \n",
    "    \" you should clean your home by yourself\"\n",
    "2. *Help* yourself:\n",
    "    \"Help yourself to some food\n",
    "3. *be* yourself\n",
    "    \"take it easy and be yourself\"\n",
    "4. *enjoy* yourself\n",
    "    \"Do you enjoy yourself to night?\"\n",
    "5. *describe* yourself [as]\n",
    "    'you youself describe yourself as a \"good man\" !'\n",
    "> its varieties:\n",
    "[Reflexive_pronoun]"
   ]
  },
  {
   "cell_type": "markdown",
   "metadata": {},
   "source": [
    "# zone\n",
    "> it has these means:\n",
    "[mean-n]:area that has a *particular* purpose or use, or that has particular features\n",
    "[mean-v]:To divide an area into sections with *specific* rules or functions\n",
    "> we will see it as:\n",
    "- *rule* : \"no-fly zone\" \n",
    "- *purpose*: \"danger zone\" ,\"comfortable zone\"\n",
    "- *natural characteristics* : \"time zone\",\" climate zone\"\n",
    "> we should use it in these ways:\n",
    "1. zoned for sth\n",
    "    \"the goverment plans to zone this area for econimical use\n",
    "2. xxx zone\n",
    "    \"you should no smoke in smoke-free zone\"\n",
    "> its varieties:\n",
    "[coutable noun in mean-n]: zones\n",
    "[verb in mean-v]:zoned"
   ]
  },
  {
   "cell_type": "markdown",
   "metadata": {},
   "source": [
    "# zip\n",
    "> it has these means:\n",
    "[mean-n]A *device* for *fastening* clothes, bags, etc., with two rows of metal or plastic teeth\n",
    "[mean-v]To fasten or close with a zip\n",
    "> we will see it as:\n",
    "- *clothes* \"a clothes with \"ykk\" zip\n",
    "- *computer* \"zip file\"\n",
    "> we should use it in these ways:\n",
    "    \n",
    "> its varieties:"
   ]
  }
 ],
 "metadata": {
  "language_info": {
   "name": "python"
  }
 },
 "nbformat": 4,
 "nbformat_minor": 2
}
