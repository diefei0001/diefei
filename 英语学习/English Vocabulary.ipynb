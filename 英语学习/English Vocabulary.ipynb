{
 "cells": [
  {
   "cell_type": "markdown",
   "metadata": {},
   "source": [
    "# Cattle\n",
    "> it has these means:  \n",
    "[C1][mean-n]：{{c1::_animals with horns and hooves kept for milk or meat_}}（**复数概念**，不可单用❌`a cattle`）  \n",
    "[C2][mean-n]：{{c1::_people seen as a group to be controlled_}}（**比喻义**，含贬义）\n",
    "> we will see it as:  \n",
    "- {{c1::*农业/畜牧*}} : `\"dairy/beef cattle\"`  \n",
    "- {{c1::*经济资产*}} : `\"invest in cattle\"`  \n",
    "- {{c1::*负面比喻*}} : `\"treated like cattle\"`\n",
    "> we should use it in these ways:  \n",
    "1. 牧场主用无人机监控牛群  \n",
    "{{c1::  \n",
    "    *monitor* cattle :  \n",
    "    \"Ranchers use drones to monitor cattle\"  \n",
    "}}  \n",
    "1. 这个地区以肉牛闻名  \n",
    "{{c1::  \n",
    "    *beef* cattle :  \n",
    "    \"This region is famous for its beef cattle\"  \n",
    "}}  \n",
    "1. 牛群需要定期接种疫苗  \n",
    "{{c1::  \n",
    "    cattle *vaccination* :  \n",
    "    \"Regular cattle vaccination prevents diseases\"  \n",
    "}}  \n",
    "1. 现代人常像牲口一样被压榨  \n",
    "{{c1::  \n",
    "    *work like* cattle (比喻) :  \n",
    "    \"Many modern workers are forced to work like cattle\"  \n",
    "}}  \n",
    "1. 牛粪可转化为生物燃料  \n",
    "{{c1::  \n",
    "    cattle *manure* :  \n",
    "    \"Cattle manure can be converted into biofuel\"  \n",
    "}}\n",
    "\n",
    "> its varieties:  \n",
    "{{c1::[uncountable plural noun]}}  \n",
    "> grammar rules：  \n",
    "- 动词必用复数：`Cattle **are** grazing`（✅） / `Cattle **is**...`（❌）  \n",
    "- 无单数形式 → 用 `cow`（母牛）/ `bull`（公牛）/ `calf`（牛犊）替代  "
   ]
  }
 ],
 "metadata": {
  "language_info": {
   "name": "python"
  }
 },
 "nbformat": 4,
 "nbformat_minor": 2
}
