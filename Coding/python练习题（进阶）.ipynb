{
 "cells": [
  {
   "cell_type": "markdown",
   "metadata": {},
   "source": [
    "# 练习题 for chr&ord\n",
    "Q1: 如何利用chr和ord实现将字符A转为a？\n",
    "Q2：用循环生成一个包含字母a到z的列表\n",
    "Q3：将输入的字符串转换为由每个字符的 Unicode 码点组成的列表\n",
    "Q4：给定列表 [67, 72, 82]，如何将其转换为字符串 \"CHR\"\n",
    "Q5：编写代码判断一个字符是否是字母（A-Z 或 a-z）\n",
    "Q6:将字符串 \"Python\" 反转，并将每个字符的 Unicode 码点加 1，生成新字符串（如 \"Qzuipo\"）\n",
    "Q7:实现简单的凯撒密码（Caesar Cipher）：将字符串中的每个字母向后偏移 3 位（如 'a'→'d'，'z'→'c'）。\n",
    "示例输入：\"hello\" → 输出：\"khoor\"\n",
    "Q8：将字符串 \"Hello123\" 中的字母全部转换为下一个字母（如 'H'→'I'，'e'→'f'），数字保持不变。"
   ]
  },
  {
   "cell_type": "code",
   "execution_count": null,
   "metadata": {},
   "outputs": [],
   "source": [
    "\n",
    "print(\"Q1:\")\n",
    "unicode_A = ord(\"A\")\n",
    "unicode_a = ord(\"a\")\n",
    "print(chr(ord(\"A\")+unicode_a-unicode_A))\n",
    "\n",
    "print(\"Q2:\")\n",
    "list_container = []\n",
    "for numbers in range(0,26):\n",
    "    numbers+=97\n",
    "    list_container.append(chr(numbers))\n",
    "print(list_container)\n",
    "\n",
    "print(\"Q3:\")\n",
    "unicode_list =[]\n",
    "str_input = input(\"enter a str\")\n",
    "def str_to_list (strings:str):    \n",
    "    for chrs in str_input:\n",
    "        unicode_numer = ord(chrs)\n",
    "        unicode_list.append(unicode_numer)\n",
    "str_to_list(str_input)\n",
    "print(unicode_list)\n",
    "\n",
    "print(\"Q4:\")\n",
    "number_list = [67,72,82]\n",
    "str_list = []\n",
    "for numbers in number_list:\n",
    "    str_list.append(chr(numbers))\n",
    "final_str = \"\".join(str_list)\n",
    "print(final_str)\n",
    "\n",
    "print(\"Q5:\")\n",
    "range_list1 = [numbers for numbers in range(97,123)]\n",
    "range_list2 = [numbers for numbers in range(65,90)]\n",
    "chr_input = input(\"enter a  chr\")\n",
    "print(\"is alpha\") if ord(chr_input) in range_list1 or ord(chr_input) in range_list2 else \"not a alpha\"\n",
    "\n",
    "print(\"Q6：\")\n",
    "str1 = 'python'\n",
    "new_str = str1[::]\n",
    "number_list = [ord(i) for i in new_str ]\n",
    "str_list = [chr(i+1) for i in number_list]\n",
    "new_str = \"\".join(str_list)\n",
    "print(new_str)\n",
    "\n",
    "print(\"Q7:\")\n",
    "def Caesar_Cipher(strings:str):\n",
    "    num_list =[ord(chrs)+3 for chrs in strings]\n",
    "    chr_list =[chr(nums) for nums in num_list]\n",
    "    return \"\".join(chr_list)\n",
    "Caesar_Cipher(\"hello\")\n",
    "\n",
    "print(\"Q8:\")\n",
    "origin_str = \"Hello123\"\n",
    "num_list=[num  for num in int(origin_str)]\n",
    "chr_list = [ord(chr)+1 for chr in str(origin_str[:4])]\n",
    "final_num_list = chr_list+num_list\n",
    "final_str=\"\".join([chr(num)for num in final_num_list])\n",
    "print(final_str)\n",
    "\n",
    "print(\"Q8:\")\n",
    "origin_str = \"Hello123\"\n",
    "num_list=[num  for num in origin_str[5:]]\n",
    "print(num_list)\n",
    "chr_list = [ord(chr)+1 for chr in origin_str[:5]]\n",
    "print(chr_list)\n",
    "new_chr_list = [chr(num) for num in chr_list]\n",
    "final_list = new_chr_list+num_list\n",
    "print(''.join(final_list))\n"
   ]
  },
  {
   "cell_type": "markdown",
   "metadata": {},
   "source": [
    "# 练习题 for eval exec complise\n",
    "题目1：动态字符串生成器\n",
    "    编写函数 create_string_template(template)，接收包含占位符的字符串（如 \"Hello {name}, you have {count} messages\"），返回一个生成函数。要求：\n",
    "    生成函数接收关键字参数，返回格式化后的字符串\n",
    "    必须通过 compile() 预编译模板\n",
    "    禁止使用 str.format() 或 f-string 等内置格式化方法\n",
    "    隔离作用域，只能访问传入的参数\n",
    "题目2：exec 的作用域传递\n",
    "    代码：\n",
    "        g = {'a': 1}\n",
    "        l = {'b': 2}\n",
    "        exec('c = a + b', g, l)\n",
    "        print(l.get('c'))\n",
    "    问题：输出结果是什么？为什么？\n",
    "[]"
   ]
  },
  {
   "cell_type": "code",
   "execution_count": null,
   "metadata": {},
   "outputs": [],
   "source": [
    "print(\"题目1\")\n",
    "def create_string_template(template):\n",
    "    f_code =f'f\"{template}\"'\n",
    "    code = compile(f_code,\"<code>\",\"eval\")\n",
    "    return lambda **kwargs : eval(code,{},kwargs)\n",
    "gen = create_string_template(\"Welcome {user}! Your ID: {id}\")\n",
    "print(gen(user=\"Alice\", id=1001))  # 应输出 \"Welcome Alice! Your ID: 1001\"\n",
    "\n"
   ]
  },
  {
   "cell_type": "code",
   "execution_count": 27,
   "metadata": {},
   "outputs": [
    {
     "name": "stdout",
     "output_type": "stream",
     "text": [
      "3\n"
     ]
    }
   ],
   "source": [
    "g = {'a': 1}\n",
    "l = {'b': 2}\n",
    "exec('c = a + b', g, l)\n",
    "print(l.get('c'))"
   ]
  },
  {
   "cell_type": "code",
   "execution_count": null,
   "metadata": {},
   "outputs": [],
   "source": []
  },
  {
   "cell_type": "markdown",
   "metadata": {},
   "source": []
  },
  {
   "cell_type": "code",
   "execution_count": null,
   "metadata": {},
   "outputs": [],
   "source": [
    "'''\n",
    "练习题 2:格式化输出与输入验证\n",
    "'''\n",
    "userinput_name = input(\"请输入名字\")\n",
    "while True:\n",
    "    try:\n",
    "        userinput_age = int(input(\"请输入年龄\"))\n",
    "        break\n",
    "    except ValueError:\n",
    "        print(\"年龄处请输入数字!\")\n",
    "userinput_sex = input(\"请输入性别\")\n",
    "userinput_city = input(\"请输入城市\")\n",
    "print(f\"姓名:{userinput_name}-年龄:{userinput_age}-性别:{userinput_sex}-城市:{userinput_city}\")"
   ]
  },
  {
   "cell_type": "code",
   "execution_count": null,
   "metadata": {},
   "outputs": [],
   "source": [
    "'''\n",
    "练习题3:四则运算\n",
    "'''\n",
    "while True:\n",
    "    try:\n",
    "        userinput_number1 = int(input(\"请输入数字1\"))\n",
    "        userinput_number2 = int(input(\"请输入数字2\"))\n",
    "        break\n",
    "    except ValueError :\n",
    "        print(\"请输入有效数字\")\n",
    "userinput_operator = input('请选择:\"+\",\"-\",\"*\",\"/\"')\n",
    "match userinput_operator:\n",
    "    case \"+\":\n",
    "        add_result=userinput_number1+userinput_number2\n",
    "        print(f\"{userinput_number1}+{userinput_number2}={add_result}\")\n",
    "    case \"-\":\n",
    "        minus_result= userinput_number1-userinput_number2\n",
    "        print(f\"{userinput_number1}-{userinput_number2}={minus_result}\")\n",
    "    case \"*\":\n",
    "        multiply_result= userinput_number1*userinput_number2\n",
    "        print(f\"{userinput_number1}*{userinput_number2}={multiply_result}\")\n",
    "    case \"/\":\n",
    "        while True:\n",
    "            try:\n",
    "                divided_result= userinput_number1/userinput_number2\n",
    "                print(f\"{userinput_number1}/{userinput_number2}={divided_result}\")\n",
    "                break\n",
    "            except ZeroDivisionError:\n",
    "                print(\"0不能做除数\")\n",
    "                userinput_number2=int(input(\"请重新输入除数\"))\n"
   ]
  },
  {
   "cell_type": "code",
   "execution_count": null,
   "metadata": {},
   "outputs": [],
   "source": [
    "'''\n",
    "练习题4:用户登录系统\n",
    "'''\n",
    "data={\n",
    "    \"Alice\":\"AZaz09wasd\",\n",
    "    \"diefei\":\"12345678\",\n",
    "    \"yuqian\":\"I love u\"\n",
    "}\n",
    "count=0\n",
    "username_input=input(\"请输入用户名\")\n",
    "while True:\n",
    "    if username_input not in data.keys():\n",
    "        print(\"用户名不存在\")\n",
    "        username_input=input(\"请输入用户名\")\n",
    "        continue\n",
    "    pwd_input=input(\"请输入密码\")\n",
    "    count+=1\n",
    "    if pwd_input==data[username_input]:\n",
    "        print(f\"登录成功，欢迎{username_input}\")\n",
    "        break\n",
    "    else:\n",
    "        print(\"密码错误，请重试\")\n",
    "    if count ==3:\n",
    "        print(\"密码输入次数过多，账户已锁定\")\n",
    "        break"
   ]
  },
  {
   "cell_type": "code",
   "execution_count": null,
   "metadata": {},
   "outputs": [],
   "source": [
    "'''\n",
    "练习题5:多类型数据处理\n",
    "'''\n",
    "flaten_list =[]\n",
    "def normalize_to_int_list(data):\n",
    "    if isinstance(data,int):\n",
    "        flaten_list.append(data)\n",
    "    if isinstance(data,str):\n",
    "        try:\n",
    "            for chr in data.split(\",\"):\n",
    "                flaten_list.append(int(chr))\n",
    "        except ValueError:\n",
    "            print(f\"ValueError,无法将{data}转为整数\")\n",
    "    if isinstance(data,list):\n",
    "        for item in data:\n",
    "            normalize_to_int_list(item)\n",
    "    return flaten_list    \n",
    "userinput=eval(input(\"请输入整数,或是包含整数的字符串,列表\"))\n",
    "normalize_to_int_list(userinput)\n",
    "print(flaten_list)"
   ]
  },
  {
   "cell_type": "code",
   "execution_count": null,
   "metadata": {},
   "outputs": [],
   "source": [
    "'''\n",
    "练习题6:多类型字典清理\n",
    "'''\n",
    "from collections import defaultdict\n",
    "\n",
    "def list_deal(list1):\n",
    "    new_dict={x:y for x,y in enumerate(list1)}\n",
    "    return new_dict\n",
    "cleaned_dict=defaultdict(list)\n",
    "def clean_and_group_dict(data):\n",
    "    for keys,values in data.items():\n",
    "        match values:\n",
    "            case int()|float():\n",
    "                    cleaned_dict[\"numbers\"].append(values)\n",
    "            case str():\n",
    "                    cleaned_dict[\"strings\"].append(values)\n",
    "            case list():\n",
    "                    clean_and_group_dict(list_deal(values))\n",
    "            case dict():\n",
    "                    clean_and_group_dict(values)\n",
    "            case _:\n",
    "                pass\n",
    "    return cleaned_dict\n",
    "userinput=eval(input(\"请输入数据\"))\n",
    "print(dict(clean_and_group_dict(userinput)))\n"
   ]
  },
  {
   "cell_type": "code",
   "execution_count": 7,
   "metadata": {},
   "outputs": [
    {
     "name": "stdout",
     "output_type": "stream",
     "text": [
      "False\n"
     ]
    }
   ],
   "source": [
    "'''\n",
    "练习题7:理解布尔值的复杂逻辑运算\n",
    "'''\n",
    "a = True\n",
    "b = False\n",
    "c = None\n",
    "\n",
    "# 第一步\n",
    "step1 = a or b and c\n",
    "\n",
    "# 第二步\n",
    "step2 = not step1\n",
    "\n",
    "# 第三步\n",
    "result = (step1 and b) or (step2 and not c)\n",
    "print(result)"
   ]
  },
  {
   "cell_type": "code",
   "execution_count": null,
   "metadata": {},
   "outputs": [],
   "source": [
    "'''\n",
    "练习题8:特殊的奇数:\n",
    "'''\n",
    "user_input=input(\"请输入数字\")\n",
    "is_special_odd_number= int(user_input)%2 !=0 and sum([int(i) for i in str(abs(int(user_input)))])%2==0\n",
    "print(\"Yes\"if is_special_odd_number else \"No\")\n"
   ]
  },
  {
   "cell_type": "code",
   "execution_count": null,
   "metadata": {},
   "outputs": [],
   "source": [
    "'''\n",
    "练习题9:布尔标记法\n",
    "'''\n",
    "'''\n",
    "筛选素数:\n",
    "'''\n",
    "for i in range(2,101):\n",
    "    is_prime=True \n",
    "    '''\n",
    "    在实际编程中,if 语句常用于过滤无效数据、执行特定逻辑或优化算法运行。例如，可以结合布尔标记法实现动态选择。\n",
    "    '''\n",
    "    if i >2 and i%2==0:\n",
    "        continue\n",
    "    for j in range(2,int(i**0.5)+1):\n",
    "        if i%j==0:\n",
    "            is_prime=False\n",
    "            break\n",
    "    if is_prime:\n",
    "        print(i)\n",
    "'''\n",
    "下面是时间复杂度更低的优化算法,也称为埃拉托色尼筛法,埃拉托色尼筛法是布尔标记法的典型应用:\n",
    "'''\n",
    "def sieve_of_eratosthenes(limit):\n",
    "    sieve = [True] * (limit + 1)\n",
    "    sieve[0] = sieve[1] = False\n",
    "    for i in range(2, int(limit ** 0.5) + 1):\n",
    "        if sieve[i]:\n",
    "            for j in range(i * i, limit + 1, i):\n",
    "                sieve[j] = False\n",
    "    return [num for num, is_prime in enumerate(sieve) if is_prime]\n",
    "result_list = sieve_of_eratosthenes(100)\n",
    "print(result_list)\n",
    "'''\n",
    "筛选特殊的奇数:\n",
    "'''\n",
    "def bool_pass(limit):\n",
    "    bool_list=[True]*(limit+1)\n",
    "    for i in range(0,limit+1):\n",
    "        if i%2==0 or sum([int(chr) for chr in str(i)])%2==1:\n",
    "            bool_list[i]=False\n",
    "    return [num for num,is_odd in enumerate(bool_list) if is_odd]\n",
    "result_list= bool_pass(100)\n",
    "print(result_list)\n"
   ]
  },
  {
   "cell_type": "code",
   "execution_count": 35,
   "metadata": {},
   "outputs": [
    {
     "name": "stdout",
     "output_type": "stream",
     "text": [
      "[123, 132, 213, 231, 312, 321]\n"
     ]
    }
   ],
   "source": [
    "'''\n",
    "练习题10:拆分数字\n",
    "'''\n",
    "num_input=input(\"请输入一个数字\")\n",
    "container_list=[]\n",
    "for num1 in num_input:\n",
    "    for num2 in num_input:\n",
    "        if num2==num1:\n",
    "            continue\n",
    "        for num3 in num_input:\n",
    "            if num3==num2 or num3==num1:\n",
    "                continue\n",
    "            else:\n",
    "                number=num1+num2+num3\n",
    "                container_list.append(number)\n",
    "print(list(map(int,container_list)))"
   ]
  },
  {
   "cell_type": "code",
   "execution_count": null,
   "metadata": {},
   "outputs": [],
   "source": [
    "'''\n",
    "练习题11:打印菱形\n",
    "'''\n",
    "height_input=int(input(\"请输入菱形高度\"))\n",
    "for i in range(1,height_input+1,2):\n",
    "    j=(height_input-i)//2\n",
    "    print(\" \"*j,\"*\"*i,end='')\n",
    "    print()\n",
    "for i in range(1,height_input,2)[::-1]:\n",
    "    j=(height_input-i)//2\n",
    "    print(\" \"*j,\"*\"*i,end='')\n",
    "    print()"
   ]
  },
  {
   "cell_type": "code",
   "execution_count": 50,
   "metadata": {},
   "outputs": [
    {
     "name": "stdout",
     "output_type": "stream",
     "text": [
      "[[1, 5], [2, 6], [3, 7], [4, 8]]\n"
     ]
    }
   ],
   "source": [
    "'''\n",
    "练习题12:二维数组的转置\n",
    "'''\n",
    "original_matrix=[\n",
    "        [1,2,3,4],\n",
    "        [5,6,7,8]\n",
    "    ]\n",
    "final_list=[]\n",
    "for j in range(len(original_matrix[i])):\n",
    "    row=[]\n",
    "    for i in range(len(original_matrix)):\n",
    "        row.append(original_matrix[i][j])\n",
    "    final_list.append(row)\n",
    "print(final_list)\n",
    "  "
   ]
  },
  {
   "cell_type": "code",
   "execution_count": null,
   "metadata": {},
   "outputs": [],
   "source": [
    "'''\n",
    "练习题13:数字序列跳跃递增\n",
    "'''\n",
    "num_input=int(input())\n",
    "num_list=[]\n",
    "num_list.append(num_input)\n",
    "while True:\n",
    "    if num_input%2==0:\n",
    "        new_num=num_input//2\n",
    "    if num_input%2==1:\n",
    "        new_num=num_input*3+1\n",
    "    num_list.append(new_num)\n",
    "    num_input=new_num\n",
    "    if new_num==1:\n",
    "        break\n",
    "print(num_list)\n",
    "str1=\" \".join(map(str,num_list))\n",
    "print(f\"生成的序列{str1}\")\n",
    "print(f\"序列长度{len(num_list)}\")\n",
    "print(f\"序列最大值{max(num_list)}\")"
   ]
  }
 ],
 "metadata": {
  "kernelspec": {
   "display_name": "Python 3",
   "language": "python",
   "name": "python3"
  },
  "language_info": {
   "codemirror_mode": {
    "name": "ipython",
    "version": 3
   },
   "file_extension": ".py",
   "mimetype": "text/x-python",
   "name": "python",
   "nbconvert_exporter": "python",
   "pygments_lexer": "ipython3",
   "version": "3.11.9"
  }
 },
 "nbformat": 4,
 "nbformat_minor": 2
}
