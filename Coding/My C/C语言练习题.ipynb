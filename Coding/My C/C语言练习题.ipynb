{
 "cells": [
  {
   "cell_type": "markdown",
   "id": "e446732b",
   "metadata": {},
   "source": [
    "# 第一章答案\n",
    "- Q1:基本模块是函数\n",
    "- Q2：语法错误是违反语言规则的错误，语义错误是违反逻辑规则的错误\n",
    "- Q3：①语句缺；②赋值符错误 ③字符串未加“”\n",
    "- Q4：a的输出结果为同一行，b的输出结果为2行，c的输出结果也是2行，d的输出结果2+2=4\n",
    "- Q5: 代码如下：\n",
    "  #include <stdio.h>\n",
    "\n",
    "int main(void)\n",
    "{\n",
    "    int num1 = 3020, num2 =350;\n",
    "    printf(\"there were %d words and %d lines\\n\",num1 ,num2);\n",
    "    return 0;\n",
    "}\n",
    "- Q6：an都为5\n"
   ]
  },
  {
   "cell_type": "markdown",
   "id": "86acca8d",
   "metadata": {},
   "source": [
    "# 第二章答案\n",
    "- Q1：人口用int；影碟用float；字母数量可以用chr，short，次数用short\n",
    "- Q2：超出int范围\n",
    "- Q3：long，int\n",
    "- Q4：字符，整数，浮点数，整数，浮点数\n",
    "- Q5：预处理指令错误，应为int main()\n",
    "    -  变量声明错误，应为float f，g；\n",
    "    -  g初始化错误，e前应有数字\n",
    "    -  rate未初始化\n",
    "- Q6：int %d\n",
    "      int %#x\n",
    "      chr %c\n",
    "      double %e\n",
    "      int或chr \n",
    "      float %f\n",
    "      long int %ld\n",
    "      float %f\n",
    "      ？\n",
    "      ？\n",
    "      longdouble %Lf\n",
    "      chr %c\n",
    "      int %d\n",
    "      chr %c\n",
    "      float %f\n",
    "      int %#x\n",
    "      int %d\n",
    "      "
   ]
  },
  {
   "cell_type": "code",
   "execution_count": null,
   "id": "832ebae5",
   "metadata": {},
   "outputs": [],
   "source": []
  }
 ],
 "metadata": {
  "language_info": {
   "name": "python"
  }
 },
 "nbformat": 4,
 "nbformat_minor": 5
}
