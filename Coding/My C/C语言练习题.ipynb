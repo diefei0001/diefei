{
 "cells": [
  {
   "cell_type": "markdown",
   "id": "e446732b",
   "metadata": {},
   "source": [
    "# 第一章答案\n",
    "- Q1:基本模块是函数\n",
    "- Q2：语法错误是违反语言规则的错误，语义错误是违反逻辑规则的错误\n",
    "- Q3：①语句缺；②赋值符错误 ③字符串未加“”\n",
    "- Q4：a的输出结果为同一行，b的输出结果为2行，c的输出结果也是2行，d的输出结果2+2=4\n",
    "- Q5: 代码如下：\n",
    "  #include <stdio.h>\n",
    "\n",
    "int main(void)\n",
    "{\n",
    "    int num1 = 3020, num2 =350;\n",
    "    printf(\"there were %d words and %d lines\\n\",num1 ,num2);\n",
    "    return 0;\n",
    "}\n",
    "- Q6：an都为5"
   ]
  }
 ],
 "metadata": {
  "language_info": {
   "name": "python"
  }
 },
 "nbformat": 4,
 "nbformat_minor": 5
}
