{
 "cells": [
  {
   "cell_type": "code",
   "execution_count": 19,
   "metadata": {},
   "outputs": [
    {
     "name": "stdout",
     "output_type": "stream",
     "text": [
      "加密后：ÌÉÐÐÓÛÓÖÐÈ\n",
      "解密后：hello world\n"
     ]
    }
   ],
   "source": [
    "'''Caesar Cipher'''\n",
    "def encrypt(text:str,shift):\n",
    "    acc_str=\"\"\n",
    "    for chrs in text:\n",
    "        new_chr =chr(ord(chrs)+shift)\n",
    "        acc_str+=new_chr\n",
    "    return acc_str\n",
    "def decrypt(text:str,shift):\n",
    "    acc_str=\"\"\n",
    "    for chrs in text:\n",
    "        new_chr =chr(ord(chrs)-shift)\n",
    "        acc_str+=new_chr\n",
    "    return acc_str\n",
    "if __name__==\"__main__\":\n",
    "    text1=\"hello world\"\n",
    "    shift1=100\n",
    "    code_text=encrypt(text1,shift1)\n",
    "    print(f\"加密后：{code_text}\")\n",
    "    print(f\"解密后：{decrypt(code_text,shift1)}\")\n",
    "\n"
   ]
  },
  {
   "cell_type": "code",
   "execution_count": null,
   "metadata": {},
   "outputs": [],
   "source": []
  },
  {
   "cell_type": "code",
   "execution_count": null,
   "metadata": {},
   "outputs": [],
   "source": []
  }
 ],
 "metadata": {
  "kernelspec": {
   "display_name": "pythonProject",
   "language": "python",
   "name": "python3"
  },
  "language_info": {
   "codemirror_mode": {
    "name": "ipython",
    "version": 3
   },
   "file_extension": ".py",
   "mimetype": "text/x-python",
   "name": "python",
   "nbconvert_exporter": "python",
   "pygments_lexer": "ipython3",
   "version": "3.11.10"
  }
 },
 "nbformat": 4,
 "nbformat_minor": 2
}
