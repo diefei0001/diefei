{
 "cells": [
  {
   "cell_type": "markdown",
   "metadata": {},
   "source": [
    "# Linux的shell与基本shell命令\n"
   ]
  },
  {
   "cell_type": "markdown",
   "metadata": {},
   "source": [
    "## echo命令\n",
    "\n",
    "### 输出内容到终端\n",
    "echo helloworld\n",
    "### 提取变量\n",
    ">提取变量0，查询当前使用的bash\n",
    "echo $0\n",
    ">提取变量？,查询上条命令执行情况\n",
    "echo $?\n",
    "--------------------------------------------------------------------\n",
    "## history命令\n",
    "\n",
    "### 查看历史记录\n",
    ">查看最近n条\n",
    "history n\n",
    ">删除历史\n",
    "history -d n1-n2\n",
    ">清空历史\n",
    "history -c\n",
    ">保存历史，手动将当前会话的历史命令追加到 ~/.bash_history 文件\n",
    "history -a\n",
    "### 快捷执行历史命令\n",
    ">重新执行特定命令\n",
    "！编号\n",
    ">执行（注意是执行）上一条命令\n",
    "！！\n",
    "\n",
    "## 重启和关机\n",
    "> 重启\n",
    "reboot\n",
    ">关机\n",
    "poweroff\n",
    "shutdown -h"
   ]
  },
  {
   "cell_type": "markdown",
   "metadata": {},
   "source": [
    "# linux的文件系统\n"
   ]
  },
  {
   "cell_type": "markdown",
   "metadata": {},
   "source": [
    "## cd命令\n",
    ">切换所处位置\n",
    "cd /etc\n",
    ">返回家目录，等价与cd /home/用户名\n",
    "cd ~\n",
    ">返回上级目录\n",
    "cd ..\n",
    ">返回上一个位置\n",
    "cd -\n",
    "--------------------------------------------------------------------\n",
    "## pwd\n",
    ">查看当前位置\n",
    "pwd\n",
    "--------------------------------------------------------------------\n",
    "## ls\n",
    ">查看指定位置的文件，未指定则展示所处位置的文件\n",
    "ls /etc/yum.repos.d/\n",
    ">详细列表（权限、大小、时间）\n",
    "ls -l\n",
    ">显示隐藏文件（以 `.` 开头）\n",
    "ls -a\n",
    ">人类可读的文件大小（如 KB/MB）\n",
    "ls -h\n",
    ">按修改时间排序\n",
    "ls -t\n",
    ">查看文件夹信息\n",
    "ls -ld\n",
    "--------------------------------------------------------------------\n",
    "## Stat\n",
    ">查看指定文件/文件夹的信息\n",
    "stat /etc\n",
    "--------------------------------------------------------------------\n",
    "## tree\n",
    ">以树状的格式列出文件\n",
    "tree\n",
    ">仅列出文件夹\n",
    "tree -d\n",
    "--------------------------------------------------------------------\n"
   ]
  },
  {
   "cell_type": "markdown",
   "metadata": {},
   "source": [
    "# 软件包管理基础\n"
   ]
  },
  {
   "cell_type": "markdown",
   "metadata": {},
   "source": [
    "## Dnf\n",
    "\n",
    "### 安装/更新/删除软件包\n",
    "[以httpd为例子]\n",
    "> 安装软件（自动处理依赖）\n",
    "sudo dnf install httpd\n",
    "> 重新安装软件\n",
    "sudo dnf reinstall httpd\n",
    "> 更新软件\n",
    "sudo dnf update httpd\n",
    "**列出所有可更新的软件**\n",
    "sudo dnf list update\n",
    "**更新所有软件**\n",
    "sudo dnf update \n",
    "> 删除软件（不删除依赖）\n",
    "sudo dnf remove httpd\n",
    "> 删除软件（删除依赖）\n",
    "sudo dnf autoremove httpd\n",
    "-------------------------------------------------------------------\n",
    "### 管理软件包组\n",
    "**安装软件包组**\n",
    "sudo dnf groupinstall \n",
    "**删除软件包组**\n",
    "sudo dnf groupremove\n",
    "**查询软件包组**\n",
    "sudo groupinfo\n",
    "### 查询软件包信息\n",
    "[以httpd为例子]\n",
    "> 搜索软件包\n",
    "sudo dnf search httpd\n",
    "**列出已安装的软件包并重定向至命令/文件**\n",
    "sudo dnf list installed | more\n",
    "sudo dnf list installed > isntalled_software\n",
    "**查询是否安装**\n",
    "sudo dnf list installed httpd\n",
    "sudo dnf list installed | grep 'httpd'\n",
    "> 查询软件包信息\n",
    "sudo dnf info httpd\n",
    "**查询已安装文件由哪些程序提供**\n",
    "sudo provides /usr/bin/ls\n",
    "-------------------------------------------------------------------\n",
    "### 仓库管理\n",
    "> 列出启用仓库\n",
    "sudo dnf repolist\n",
    "> 列出所有仓库(包括禁用)\n",
    "sudo dnf repolist all\n",
    "**列出仓库配置文件**\n",
    "cd /etc/yum.repos.d/ | ls-alh\n",
    "**启用/禁用仓库**\n",
    "sudo dnf config-manager --enable repo\n",
    "sudo dnf config-manager --disable repo\n",
    "**删除仓库**\n",
    "sudo rm /etc/yum.repo.d/myrepo.repo\n",
    ">清除仓库缓存\n",
    "sudo dnf clean all\n",
    "-------------------------------------------------------------------\n"
   ]
  },
  {
   "cell_type": "markdown",
   "metadata": {},
   "source": [
    "## Rpm\n",
    "\n",
    "### 安装/更新/卸载\n",
    "> 安装软件（不处理依赖）\n",
    "### 查询与验证\n",
    "> 查询是否已安装某个包\n",
    "sudo rpm -q httpd\n",
    "> 查询已安装的所有包\n",
    "sudo rpm -qa\n",
    "> 查看软件包详细信息（版本、安装时间等）\n",
    "sudo rpm -qi httpd\n",
    "> 列出软件包安装的文件\n",
    "sudo rpm -ql httpd\n",
    "> 查看某个文件属于哪个包\n",
    "sudo rpm -qf /usr/bin/ls\n",
    "> 查询软件包的依赖\n",
    "sudo rpm -qR httpd"
   ]
  },
  {
   "cell_type": "markdown",
   "metadata": {},
   "source": [
    "### 自动配置仓库\n",
    ">红帽自带仓库启用\n",
    "subscription-manager repo  --enable=rhel-9-for-x86_64-baseos-rpms\n",
    "subscription-manager repos --enable=rhel-9-for-x86_64-appstream-rpms\n",
    ">安装网络仓库\n",
    "sudo dnf install url"
   ]
  },
  {
   "cell_type": "markdown",
   "metadata": {},
   "source": [
    "### 手动配置仓库\n",
    "vim /etc/yum.repos.d/<reponame>.repo\n",
    "#输入：\n",
    "[repo ID]\n",
    "name=\n",
    "baseurl=<url>\n",
    "enable=1\n",
    "gpgcheck=0\n",
    "#执行：\n",
    "dnf clean all\n",
    "dnf repolist"
   ]
  },
  {
   "cell_type": "markdown",
   "metadata": {},
   "source": []
  }
 ],
 "metadata": {
  "language_info": {
   "name": "python"
  }
 },
 "nbformat": 4,
 "nbformat_minor": 2
}
