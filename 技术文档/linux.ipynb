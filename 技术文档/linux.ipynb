{
 "cells": [
  {
   "cell_type": "markdown",
   "metadata": {},
   "source": [
    "# 软件包管理基础\n",
    "- 软件包存储在称为*仓库*的服务器上，通过本地的*软件包管理器*通过internet访问。\n",
    "- 软件包之间存在*依赖关系*，软件包管理器会检测依赖并自动安装。\n",
    "- 依赖关系损坏，指的是软件的依赖关系被另一个软件包搞乱\n",
    "- 基于*Debian*的发行版使用*dpkg*命令；基于*Redhat*的发行版使用*rpm*命令。\n",
    "- 对于红帽来说，主要的软件管理命令有：*yum*、*dnf*、*rpm*。事实上，它们都是基于rpm的。我们学习的重点在于dnf，因为其是yum的升级版"
   ]
  },
  {
   "cell_type": "markdown",
   "metadata": {},
   "source": [
    "## Dnf\n",
    "\n",
    "### 安装/更新/删除软件包\n",
    "[以httpd为例子]\n",
    "> 安装软件（自动处理依赖）\n",
    "sudo dnf install httpd\n",
    "> 更新软件\n",
    "sudo dnf update httpd\n",
    "**列出所有可更新的软件**\n",
    "sudo dnf list update\n",
    "**更新所有软件**\n",
    "sudo dnf update \n",
    "> 删除软件（不删除依赖）\n",
    "sudo dnf remove httpd\n",
    "> 删除软件（删除依赖）\n",
    "sudo dnf autoremove httpd\n",
    "-------------------------------------------------------------------\n",
    "### 查询软件包信息\n",
    "[以httpd为例子]\n",
    "> 搜索软件包\n",
    "sudo dnf search httpd\n",
    "**列出已安装的软件包并重定向至命令/文件**\n",
    "sudo dnf list installed | more\n",
    "sudo dnf list installed > isntalled_software\n",
    "**查询是否安装**\n",
    "sudo dnf list installed httpd\n",
    "sudo dnf list installed | grep 'httpd'\n",
    "> 查询软件包信息\n",
    "sudo dnf info httpd\n",
    "**查询已安装文件由哪些程序提供**\n",
    "sudo provides /usr/bin/ls\n",
    "-------------------------------------------------------------------\n",
    "### 仓库管理\n",
    "> 列出启用仓库\n",
    "sudo dnf repolist\n",
    "> 列出所有仓库(包括禁用)\n",
    "sudo dnf repolist all\n",
    "**列出仓库配置文件**\n",
    "cd /etc/yum.repos.d/ | ls-alh\n",
    "**启用/禁用仓库**\n",
    "sudo dnf config-manager --enable repo\n",
    "sudo dnf config-manager --disable repo\n",
    "**删除仓库**\n",
    "sudo rm /etc/yum.repo.d/myrepo.repo\n",
    "-------------------------------------------------------------------\n"
   ]
  },
  {
   "cell_type": "markdown",
   "metadata": {},
   "source": []
  },
  {
   "cell_type": "markdown",
   "metadata": {},
   "source": [
    "## Rpm\n",
    "\n",
    "### 安装/更新/卸载\n",
    "> 安装软件（不处理依赖）\n",
    "### 查询与验证\n",
    "> 查询是否已安装某个包\n",
    "sudo rpm -q httpd\n",
    "> 查询已安装的所有包\n",
    "sudo rpm -qa\n",
    "> 查看软件包详细信息（版本、安装时间等）\n",
    "sudo rpm -qi httpd\n",
    "> 列出软件包安装的文件\n",
    "sudo rpm -ql httpd\n",
    "> 查看某个文件属于哪个包\n",
    "sudo rpm -qf /usr/bin/ls\n",
    "> 查询软件包的依赖\n",
    "sudo rpm -qR httpd"
   ]
  },
  {
   "cell_type": "markdown",
   "metadata": {},
   "source": [
    "### 自动配置仓库\n"
   ]
  },
  {
   "cell_type": "markdown",
   "metadata": {},
   "source": [
    "### 依赖关系损坏"
   ]
  }
 ],
 "metadata": {
  "language_info": {
   "name": "python"
  }
 },
 "nbformat": 4,
 "nbformat_minor": 2
}
