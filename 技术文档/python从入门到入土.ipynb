{
 "cells": [
  {
   "cell_type": "markdown",
   "metadata": {},
   "source": [
    "# python的代码结构\n",
    "\n",
    "### python程序的组成\n",
    "> python程序由代码行，代码块，模块和包构成\n",
    "> python用缩进来划分代码层级\n",
    "*代码*：\n",
    "def greet(name):\n",
    "    print(\"Hello, \" + name)  # 缩进表示在函数体内\n",
    "--------------------------------------------------------------------\n",
    "\n",
    "### 注释\n",
    "> python通过#或'''编写注释\n",
    "*代码*：\n",
    "\n",
    "\"\"\"\n",
    "这是一个多行注释\n",
    "用于解释代码的详细功能\n",
    "\"\"\"\n",
    "def greet(name):\n",
    "    print(\"Hello, \" + name)\n",
    "--------------------------------------------------------------------"
   ]
  },
  {
   "cell_type": "markdown",
   "metadata": {},
   "source": [
    "# python的编码方式\n",
    "> python3及以上默认使用utf-8\n",
    "> chr和ord用于实现字面量与编码点的转换\n",
    "**函数**\n",
    "-------------------------------\n",
    "(function) def chr(\n",
    "    i: int | SupportsIndex,      [i可以是：①原生整型②支持SupportsIndex索引协议的对象]\n",
    "    /                            [/:位置仅参数]\n",
    ") -> str                         [根据unicode表返回对应的str]\n",
    "-------------------------------\n",
    "(function) def ord(\n",
    "    c: str | bytes | bytearray,  [c可以是长度为1的字符串或字节，字节数组]\n",
    "    /                            [/:位置仅参数]\n",
    ") -> int                         [根据unicode表返回对应的编码点]"
   ]
  },
  {
   "cell_type": "code",
   "execution_count": null,
   "metadata": {},
   "outputs": [],
   "source": [
    "'''chr &ord'''\n",
    "print(chr(0x1111))\n",
    "print(ord(\"ϫ\"))"
   ]
  },
  {
   "cell_type": "markdown",
   "metadata": {},
   "source": [
    "# python的输入和输出\n",
    "> input函数实现python的标准输入\n",
    "> print函数实现python的标准输出\n",
    "**函数**\n",
    "---------------------------------\n",
    "(function) def [input](\n",
    "    prompt: object = \"\",\n",
    "    /\n",
    ") -> str\n",
    "Read a *string* from standard input. The trailing newline is stripped.\n",
    "The prompt string, if given, is printed to standard output without a trailing newline before reading input.\n",
    "\n",
    "---------------------------------\n"
   ]
  },
  {
   "cell_type": "markdown",
   "metadata": {},
   "source": [
    "# python的动态执行输入\n",
    "> eval函数实现将输入的表达式字符串进行执行，并返回结果\n",
    "(function) def [eval](\n",
    "    source: `str` | ReadableBuffer | CodeType, [source输入可以是str，complie预编译代码，ReadableBuffer（字节对象，memoryview对象），codeType]\n",
    "    globals: `dict`[str, Any] | None = None,   [可通过设置字典限制eval环境，否则使用全局变量]\n",
    "    locals: `Mapping`[str, object] | None = None, [效果与global相同，不设置则与global相同,如果省略globals，则需要显式指定locals]\n",
    "    /                                        [仅位置参数传递，不能使用关键词参数]\n",
    ") -> Any                                     [返回值，不强制输出特定类型]\n",
    "----------------------------------\n",
    "> exec函数与eval函数高度相似，但exec可以输入包含循环等复杂代码块\n",
    "(function) def exec(\n",
    "    source: `str` | ReadableBuffer | CodeType,    \n",
    "    globals: `dict`[str, Any] | None = None,\n",
    "    locals: `Mapping`[str, object] | None = None,\n",
    "    /,\n",
    "    *,                                           \n",
    ") -> None                                    [不返回值,值被添加进global/local（取决于有无传递参数）]\n",
    "[exec和eval的变量选取都遵循LEGB原则，因此代码内部>local>global的]\n",
    "> compile用于将字符串形式的 Python 代码转换为代码对象（code object）\n",
    "(function)def compile(\n",
    "    source: `str` | ReadableBuffer | Module | Expression | Interactive, [输入可以是字符串，字节对象，AST节点]\n",
    "    filename: `str` | ReadableBuffer | _PathLike[Any],\n",
    "    mode: `str`,   [模式选择：eval,exec,single]"
   ]
  },
  {
   "cell_type": "code",
   "execution_count": null,
   "metadata": {},
   "outputs": [],
   "source": [
    "'''\n",
    "eval()\n",
    "'''\n",
    "# 合法示例\n",
    "eval(\"1 + 2 * 3\")           # 数学运算 → 7\n",
    "eval(\"x if x > 0 else 0\", {}, {'x':5})  # 三元表达式 → 5\n",
    "eval(\"{'a': 1, 'b': 2}\")    # 字典字面量 → {'a':1, 'b':2}\n",
    "eval(\"[i**2 for i in lst]\", {}, {'lst':[1,2,3]})  # 列表推导式 → [1,4,9]\n",
    "\n",
    "# 非法示例\n",
    "eval(\"x = 5\")          # 赋值语句（语句不是表达式）\n",
    "eval(\"import os\")       # 导入语句（语句）\n",
    "eval(\"print('hello')\")  # 函数调用语句"
   ]
  },
  {
   "cell_type": "code",
   "execution_count": null,
   "metadata": {},
   "outputs": [],
   "source": [
    "'''\n",
    "exec()\n",
    "'''\n",
    "global_dict ={\"x\":1,\"y\":1}      #设置global参数,此时y为1；\n",
    "local_dict ={\"y\":2}             #设置local参数，修改y的值为2\n",
    "local_code = \"result = x*y\"     # 设置result值\n",
    "exec(local_code,global_dict)    #不传递local，result值被添加仅global，结果为1；       \n",
    "exec(local_code,global_dict,local_dict)# 传递local，result值被添加进local，结果为2，可见local高于global\n",
    "print(global_dict.get(\"result\"))\n",
    "print(local_dict.get(\"result\"))\n",
    "\n",
    "code = '''                         \n",
    "x = [1,2,3,4,5]           代码内部设置x的值       \n",
    "for nums in x:\n",
    "    print(nums)        \n",
    "'''\n",
    "global_dict = {\"x\":[12,3,4,5]}  # 设置global\n",
    "local_dict  = {\"x\":[2,3,4,5,6]} #设置local\n",
    "exec(code,global_dict,local_dict) #即使传入global和local，x未被修改,可见字符串内部的优先级最高；"
   ]
  },
  {
   "cell_type": "code",
   "execution_count": 17,
   "metadata": {},
   "outputs": [
    {
     "name": "stdout",
     "output_type": "stream",
     "text": [
      "hello,world\n"
     ]
    }
   ],
   "source": [
    "'''\n",
    "compile\n",
    "'''\n",
    "code =\"print('hello,world')\"\n",
    "able_code = compile(code,filename=\"<code>\",mode=\"eval\")\n",
    "exec(able_code)"
   ]
  }
 ],
 "metadata": {
  "kernelspec": {
   "display_name": "Python 3",
   "language": "python",
   "name": "python3"
  },
  "language_info": {
   "codemirror_mode": {
    "name": "ipython",
    "version": 3
   },
   "file_extension": ".py",
   "mimetype": "text/x-python",
   "name": "python",
   "nbconvert_exporter": "python",
   "pygments_lexer": "ipython3",
   "version": "3.11.9"
  }
 },
 "nbformat": 4,
 "nbformat_minor": 2
}
