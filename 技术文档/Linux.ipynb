{
 "cells": [
  {
   "cell_type": "markdown",
   "id": "d07a05cf",
   "metadata": {},
   "source": [
    "# 切换所处目录位置\n",
    "## 核心概念\n",
    "*目录树结构*：\n",
    "    文件系统是树状结构，根目录 (/) 是起点\n",
    "*进程工作目录 (CWD - Current Working Directory)*：\n",
    "    每个进程（包括 shell）都有一个当前工作目录，本质是内核维护的目录inode指针\n",
    "*绝对路径和相对路径*：\n",
    "    绝对路径是从根目录出发的完整文件路径，而相对路径是从上层文件位置出发的，相对于上层的文件路径\n",
    "## cd，pwd\n",
    "*cd的核心作用是改变当前 shell 进程的工作目录（CWD）*\n",
    "*pwd的核心作用是打印当前CWD的绝对路径*\n",
    "> 基本语法\n",
    "cd /path/to/directory/\n",
    "pwd\n",
    "> 参数\n",
    "cd `-`[上一个目录位置] `..`[上一级目录位置] `~`[当前登录用户的家目录位置]"
   ]
  },
  {
   "cell_type": "markdown",
   "id": "9151dbce",
   "metadata": {},
   "source": [
    "# 查看文件目录与文件具体信息\n",
    "## 核心概念\n",
    "*inode*:\n",
    "    文件系统内部用于描述和管理一个文件（包括目录、设备文件等一切“文件”）元数据的数据结构。每个文件/目录有且仅有一个唯一的 inode。\n",
    "*inode存储*：\n",
    "    文件类型 (st_mode): `普通文件 (-)`、`目录 (d)`、`符号链接 (l)`、块设备 (b)、字符设备 (c)、管道 (p)、套接字 (s)。\n",
    "    权限 (st_mode): `读 (r)、写 (w)、执行 (x) 权限位`，针对文件`所有者 (Owner)、所属组 (Group) 和其他用户 (Others)。`\n",
    "    链接数 (st_nlink): 指向该 inode 的`硬`链接总数。\n",
    "    所有者 (st_uid): 文件`所有者的用户 ID`。\n",
    "    所属组 (st_gid): 文件`所属组的组 ID`。\n",
    "    大小 (st_size): 文件内容的字节大小（对于目录，通常指其目录项列表的大小）。\n",
    "    时间戳:\n",
    "        `访问时间 (st_atime)`: 文件内容最后被读取的时间。\n",
    "        `修改时间 (st_mtime)`: 文件内容最后被修改的时间。\n",
    "        `变更时间 (st_ctime)`: 文件 inode 元数据（权限、所有者、链接数等）最后被改变的时间（在 Linux 中）。\n",
    "        `创建时间 (st_birthtime)`: 文件创建时间（并非所有文件系统都支持）。\n",
    "    数据块指针： 指向磁盘上存储文件实际内容的物理块位置（对用户透明）。\n",
    "*目录*：\n",
    "    将人类可读的文件名与系统内部标识文件的 inode 编号关联起来的`映射表`\n",
    "*符号链接*\n",
    "    提供一种指向另一个文件的“快捷方式”或“别名”。删除符号链接不影响目标文件；删除目标文件会导致符号链接“悬空”。\n",
    "## ls,stat,tree\n",
    "*ls，stat，tree本质都是inode元数据的提取器*\n",
    "- ls：`输入`：目录路径 -> `输出`：文件名 + inode元数据摘要 (类型, 权限, 链接数, 所有者, 组, 大小, 时间)\n",
    "- stat:`输入`：文件/目录路径 ->` 输出`：完整的inode元数据\n",
    "- tree:`输入`:目录路径 (根) -> `输出：`递归的目录树 + 文件/目录名\n",
    "[区别：ls输出的inode信息是stat的子集，例如ls只支持mt这一个时间戳，而stat是完整的]\n",
    "*参数主要改变对inode元数据的提取详细程度,与输出格式*\n",
    ">基本语法：\n",
    "ls -[option] /path/to/directory/\n",
    "stat -[option] /path/to/directory/\n",
    "tree -[option] /path/to/directory/\n",
    ">参数\n",
    "ls -`l`[详细列表如权限、大小、时间]-`a`[显示隐藏文件以.开头]-`h`[人类可读的文件大小]-`S`[按文件大小排序]-`t`[按修改时间排序]-`r`[反向排序]-`ld`[输入为文件夹时需添加]\n",
    "stat列出了完整的inode，因此无需额外参数支持\n",
    "tree-`d`[仅列出文件夹]-`L number`[限制查找深度为number层 ]"
   ]
  },
  {
   "cell_type": "markdown",
   "id": "40edf089",
   "metadata": {},
   "source": [
    "# 搜索并筛选文件\n",
    "## find，locate\n",
    "*find是基于VFS的深度遍历工具，直接交互内核获取实时数据，灵活但资源敏感。*\n",
    "*locate利用预构建索引( /var/lib/slocate)的查询工具，牺牲实时性换取毫秒级响应，适合快速定位。*\n",
    "- find：`输入`：起点路径,搜索条件 -> `输出`：匹配文件的完整路径（到标准输出）\n",
    "- locate:`输入`：搜索条件 ->  `输出`：匹配文件的完整路径（到标准输出）\n",
    "> 基本语法：\n",
    "find /path/to/directory/ [option]\n",
    "locate  [option]\n",
    "> 参数：\n",
    "find `-name` `-iname` `-type` `-mtime` `-size` `-empty` `-delelt` -perm -o -not -exec -   "
   ]
  }
 ],
 "metadata": {
  "language_info": {
   "name": "python"
  }
 },
 "nbformat": 4,
 "nbformat_minor": 5
}
