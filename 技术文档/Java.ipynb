{
 "cells": [
  {
   "cell_type": "markdown",
   "metadata": {},
   "source": [
    "# java的语法结构\n",
    "\n",
    "\n",
    "### java 代码块的基本结构\n",
    "*代码*：\n",
    "public class ClassName{\n",
    "    public static void main(String[] args){\n",
    "        program statements\n",
    "    }\n",
    "}\n",
    "-------------------------------------------------------------------\n",
    "### 方法体的结构\n",
    ">一对花括号表示方法体的开始和结束\n",
    "*代码*\n",
    "{\n",
    "    object.method(parameters)\n",
    "}\n",
    "[这一点和python是类似的]\n",
    "-------------------------------------------------------------------\n",
    "### 语句的结尾\n",
    ">java 语句必须以；结尾\n",
    "**例如*\n",
    "int MathNumber；\n",
    "### 注释\n",
    ">java的长注释由 /* * 和*/ 括起来\n",
    "[python由'''括起来]"
   ]
  },
  {
   "cell_type": "markdown",
   "metadata": {
    "vscode": {
     "languageId": "plaintext"
    }
   },
   "source": [
    "# Java的变量\n",
    "\n",
    "\n",
    "### java的变量与强制声明\n",
    ">java 提供了4种整型，2种浮点类型，char类型，boolean\n",
    ">java 是强类型语言，使用变量必须提前声明类型\n",
    "*代码格式*：\n",
    "\n",
    "-------------------------------------------------------------------\n",
    "### java的变量命名规则\n",
    ">java 变量命名与python规则一致  \n",
    "-------------------------------------------------------------------\n",
    "### java的变量初始化\n",
    ">声明变量后，必须要用赋值语句对变量进行显式初始化\n",
    "*代码格式*：\n",
    "public class Good {\n",
    "        public static void main(String[] args){\n",
    "            int MathNumber;\n",
    "            MathNumber = 12;\n",
    "            System.out.println(MathNumber);\n",
    "        }\n",
    "}\n"
   ]
  },
  {
   "cell_type": "markdown",
   "metadata": {},
   "source": []
  }
 ],
 "metadata": {
  "language_info": {
   "name": "python"
  }
 },
 "nbformat": 4,
 "nbformat_minor": 2
}
