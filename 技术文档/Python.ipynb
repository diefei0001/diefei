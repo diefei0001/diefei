{
 "cells": [
  {
   "cell_type": "markdown",
   "metadata": {},
   "source": [
    "# python的底层逻辑\n",
    "\n",
    "### 协议驱动设计哲学\n",
    ">对象通过实现特定方法获得某种能力，而非通过继承强制类型"
   ]
  },
  {
   "cell_type": "markdown",
   "metadata": {},
   "source": [
    "# python的代码结构\n",
    "\n",
    "### python程序的组成\n",
    "> python程序由代码行，代码块，模块和包构成\n",
    "> python用缩进来划分代码层级\n",
    "*代码*：\n",
    "def greet(name):\n",
    "    print(\"Hello, \" + name)  # 缩进表示在函数体内\n",
    "--------------------------------------------------------------------\n",
    "\n",
    "### 注释\n",
    "> python通过#或'''编写注释\n",
    "*代码*：\n",
    "\n",
    "\"\"\"\n",
    "这是一个多行注释\n",
    "用于解释代码的详细功能\n",
    "\"\"\"\n",
    "def greet(name):\n",
    "    print(\"Hello, \" + name)\n",
    "--------------------------------------------------------------------"
   ]
  },
  {
   "cell_type": "markdown",
   "metadata": {},
   "source": [
    "# python的编码方式\n",
    "> python3及以上默认使用utf-8\n",
    "> chr和ord用于实现字面量与编码点的转换\n",
    "**函数**\n",
    "-------------------------------\n",
    "(function) def chr(\n",
    "    i: int | SupportsIndex,\n",
    "    /\n",
    ") -> str\n",
    "[i可以是：①原生整型②支持SupportsIndex索引协议的对象]\n",
    "[/:位置仅参数]\n",
    "[根据unicode表返回对应的str]\n",
    "-------------------------------\n",
    "(function) def ord(\n",
    "    c: str | bytes | bytearray,\n",
    "    /\n",
    ") -> int\n",
    "[c可以是长度为1的字符串或字节，字节数组]\n",
    "[/:位置仅参数]\n",
    "[根据unicode表返回对应的编码点]\n",
    "-------------------------------\n"
   ]
  },
  {
   "cell_type": "code",
   "execution_count": 3,
   "metadata": {},
   "outputs": [
    {
     "name": "stdout",
     "output_type": "stream",
     "text": [
      "ᄑ\n",
      "1003\n"
     ]
    }
   ],
   "source": [
    "print(chr(0x1111))\n",
    "print(ord(\"ϫ\"))"
   ]
  }
 ],
 "metadata": {
  "kernelspec": {
   "display_name": "Python 3",
   "language": "python",
   "name": "python3"
  },
  "language_info": {
   "codemirror_mode": {
    "name": "ipython",
    "version": 3
   },
   "file_extension": ".py",
   "mimetype": "text/x-python",
   "name": "python",
   "nbconvert_exporter": "python",
   "pygments_lexer": "ipython3",
   "version": "3.11.9"
  }
 },
 "nbformat": 4,
 "nbformat_minor": 2
}
