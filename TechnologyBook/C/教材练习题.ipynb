{
 "cells": [
  {
   "cell_type": "markdown",
   "id": "acdadffe",
   "metadata": {},
   "source": [
    "# 第一章答案\n",
    "- Q1:编写的程序可以在不同的计算机系统或操作系统中运行，而不需要对代码进行太多的修改或调整\n",
    "- Q2:源代码是用高级语言（C）编写的代码文件，目标代码是经过编译器编译的代码文件，可执行文件是通过链接器将目标代码与库代码和启动代码耦合而成的最终文件\n",
    "- Q3：分析需求，设计数据结构与算法，编码，编译，运行，测试和调试，维护和修改\n",
    "- Q4：编译器将高级语言转为机器语言\n",
    "- Q5：链接器实现目标代码，库代码和启动代码的耦合"
   ]
  },
  {
   "cell_type": "markdown",
   "id": "e446732b",
   "metadata": {},
   "source": [
    "# 第二章答案\n",
    "- Q1:基本模块是函数\n",
    "- Q2：语法错误是违反语言规则的错误，语义错误是违反逻辑规则的错误\n",
    "- Q4：①语句缺<>；注释错误；声明未加；赋值符错误；字符串未加“”，printf未格式化输出，\n",
    "- Q5：a的输出结果为：\n",
    "      Baa Baa Black SheepHave you any wool?\n",
    "      b的输出结果为:\n",
    "      Begone!\n",
    "      0 creature of lard!\n",
    "      c的输出结果为：\n",
    "      What？\n",
    "      No/nfish？\n",
    "      d的输出结果：\n",
    "      2+2=4\n",
    "- Q6：main，int\n",
    "- Q7: 代码如下：\n",
    "```\n",
    "#include <stdio.h>\n",
    "int main(void)\n",
    "{\n",
    "  int num1 = 3020;\n",
    "  int num2 = 350;\n",
    "  printf(\"There were %d words and %d lines,num1,num2)\n",
    "}\n",
    "- Q8：\n",
    "  执行完第7行后，b变量指向存储2的内存空间的地址\n",
    "  执行完第8行后，b变量指向a变量的内存地址\n",
    "  执行完第9行后，a变量指向b变量的内存地址\n",
    "执行结果为：a，b都等于100\n",
    "- Q9：\n",
    "  y指向的内存存储5\n",
    "  y指向的内存存储15\n",
    "  x指向的内存存储150\n",
    "执行结果为：150，15"
   ]
  },
  {
   "cell_type": "markdown",
   "id": "86acca8d",
   "metadata": {},
   "source": [
    "# 第三章答案\n",
    "- Q1：人口用int；影碟用float；字母char，次数用short\n",
    "- Q2：超出int范围（2的31次方）\n",
    "- Q3：long，int\n",
    "- Q4：字符，整数，浮点数，整数，浮点数\n",
    "- Q5：预处理指令错误，应为int main()\n",
    "    -  变量声明错误，应为float f，g；\n",
    "    -  g初始化错误，e前应有数字\n",
    "    -  rate未初始化\n",
    "- Q6:\n",
    "    int %d\n",
    "    int %#x\n",
    "    char %c\n",
    "    double %lf\n",
    "    int %c\n",
    "    double %lf\n",
    "    long %ld\n",
    "    float %f\n",
    "    double %a\n",
    "- Q7:\n",
    "    int %o\n",
    "    long double %Lf\n",
    "    int %c\n",
    "    double %ld\n",
    "    int %c\n",
    "    float %f\n",
    "    int %#x\n",
    "    int %d\n",
    "- Q8:\n",
    "    d,ld,f,c\n",
    "- Q9：\n",
    "    见MyC\n",
    "      "
   ]
  },
  {
   "cell_type": "markdown",
   "id": "f163a516",
   "metadata": {},
   "source": [
    "# 第四章答案\n",
    "1. 只有名被打印，scanf会在遇到空白字符（空格、制表符、换行符等）时停止读取\n",
    "2. a: he sold the painting for  234.5.\n",
    "   b: Hi!\n",
    "   c: His Hamlet was funny without being vulgar.\n",
    "      has 35 charachters.\n",
    "   d: Is  1.20e3 the same as  1201.00?\n",
    "3. printf(\"\\\"%s\\\"\",Q);\n",
    "4. scanf的格式化字符错误，且缺少指针传递\n",
    "   printf参数过多\n",
    "5. see 4.2 Book.C\n",
    "6. see 4.3 output1.C\n",
    "7. %15lu %4#x %-122.E %+10.3f %8.*s\n",
    "8. see 4.4 Output2.C\n",
    "9. see 4.5 Scanf.C\n",
    "10. 非字符数据"
   ]
  }
 ],
 "metadata": {
  "language_info": {
   "name": "python"
  }
 },
 "nbformat": 4,
 "nbformat_minor": 5
}
