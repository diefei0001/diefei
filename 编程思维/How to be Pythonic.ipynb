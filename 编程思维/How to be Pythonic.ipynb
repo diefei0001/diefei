{
 "cells": [
  {
   "cell_type": "markdown",
   "id": "f51e53d7",
   "metadata": {},
   "source": [
    "# 算法是程序设计的活的灵魂\n",
    "`算法是编程的核心！`\n",
    "`算法是编程的核心！`\n",
    "`算法是编程的核心！`\n",
    "[编程的本质就是用编程语言将算法翻译给计算机听，算法一定由顺序结构，分支结构，循环结构组成（除非是超简单的问题），事实上，再复杂的算法也是由顺序，分支，循环构成的。因此这也是为什么编程语言都是顺序执行，同时语法规则基本类似的原因(比如都有if和while switch)不明白一个问题的算法，是不可能编出程序的。算法根据复杂度又可以进一步优化，但最起码，能实现功能，毕竟再烂的算法只要能解决问题就行，毕竟又不是不能运行]"
   ]
  },
  {
   "cell_type": "markdown",
   "id": "a0820d01",
   "metadata": {},
   "source": [
    "# 纸牌与假设\n",
    "布尔标记法是实现数组筛选的经典算法："
   ]
  },
  {
   "cell_type": "code",
   "execution_count": null,
   "id": "105c39ec",
   "metadata": {},
   "outputs": [
    {
     "name": "stdout",
     "output_type": "stream",
     "text": [
      "2\n",
      "3\n",
      "5\n",
      "7\n",
      "11\n",
      "13\n",
      "17\n",
      "19\n",
      "23\n",
      "29\n",
      "31\n",
      "37\n",
      "41\n",
      "43\n",
      "47\n",
      "53\n",
      "59\n",
      "61\n",
      "67\n",
      "71\n",
      "73\n",
      "79\n",
      "83\n",
      "89\n",
      "97\n"
     ]
    }
   ],
   "source": [
    "for i in range(2,101):\n",
    "    is_prime=True                     #默认i为素数\n",
    "    if i >2 and i%2==0:               #大于二且整除2的一定不是素数，continue跳过本次循环\n",
    "        continue\n",
    "    for j in range(2,int(i**0.5)+1):  \n",
    "        if i%j==0:\n",
    "            is_prime=False\n",
    "            break\n",
    "    if is_prime:\n",
    "        print(i)"
   ]
  },
  {
   "cell_type": "code",
   "execution_count": null,
   "id": "582fc9f4",
   "metadata": {},
   "outputs": [],
   "source": [
    "'''\n",
    "算法原理:取第n个数,依此比较后续每个数字，找出最小数字,将第n个与最小数字进行交换,如果第n个就是最小数字,就与它自己交换\n",
    "n的初始值为1,每一次循环n+1, 数组有x个元素就循环x-1次\n",
    "Python实现: \n",
    "'''\n",
    "def _ (list):\n",
    "    length = len(list)\n",
    "    for i in range(length):\n",
    "        min_idx = i\n",
    "        for j in range(i+1,length):\n",
    "            if list[min_idx] < list[j]:\n",
    "                min_idx = j\n",
    "        list[i] , list[min_idx]= list[min_idx],list[i]"
   ]
  },
  {
   "cell_type": "code",
   "execution_count": 16,
   "id": "f63965c2",
   "metadata": {},
   "outputs": [
    {
     "data": {
      "text/plain": [
       "53316291173"
      ]
     },
     "execution_count": 16,
     "metadata": {},
     "output_type": "execute_result"
    }
   ],
   "source": [
    "def fin (n,a=0,b=1):\n",
    "    times = 2\n",
    "    if n ==1 or n==2:\n",
    "        return n-1\n",
    "    while times<=n:\n",
    "        times+=1\n",
    "        res = a+b\n",
    "        if n-times>0:\n",
    "            a,b =b,res\n",
    "    return res\n",
    "fin(54)"
   ]
  },
  {
   "cell_type": "code",
   "execution_count": 20,
   "id": "ba4df7d3",
   "metadata": {},
   "outputs": [
    {
     "data": {
      "text/plain": [
       "2"
      ]
     },
     "execution_count": 20,
     "metadata": {},
     "output_type": "execute_result"
    }
   ],
   "source": [
    "def fin(n):\n",
    "    if n ==1 or n==2:\n",
    "        return n-1\n",
    "    return fin(n-1)+fin(n-2)\n",
    "fin(4)"
   ]
  },
  {
   "cell_type": "code",
   "execution_count": 25,
   "id": "d1d44018",
   "metadata": {},
   "outputs": [
    {
     "name": "stdout",
     "output_type": "stream",
     "text": [
      "[1, 2, 3, 3, 4, 4, 8, 22]\n"
     ]
    }
   ],
   "source": [
    "arr = [1,2,22,3,4,8,4,3]\n",
    "for index in range(len(arr)):\n",
    "    for next_index in range(index+1,len(arr)):\n",
    "        if arr[index]>arr[next_index]:\n",
    "            arr[next_index],arr[index]=arr[index],arr[next_index]\n",
    "print(arr)"
   ]
  },
  {
   "cell_type": "code",
   "execution_count": null,
   "id": "17f99ebf",
   "metadata": {},
   "outputs": [
    {
     "data": {
      "text/plain": [
       "[1, 1, 4, 4, 4, 5, 6, 32]"
      ]
     },
     "execution_count": 29,
     "metadata": {},
     "output_type": "execute_result"
    }
   ],
   "source": [
    "def insertion_sort(nums: list[int]):\n",
    "    \"\"\"插入排序\"\"\"\n",
    "    # 外循环：已排序区间为 [0, i-1]\n",
    "    for i in range(1, len(nums)):\n",
    "        base = nums[i]\n",
    "        j = i - 1 #代表base的左边\n",
    "        # 内循环：将 base 插入到已排序区间 [0, i-1] 中的正确位置\n",
    "        while j >= 0 and nums[j] > base:#base左边有数字且比基准大，则进入循环\n",
    "            \n",
    "            nums[j + 1] = nums[j]  # 将 nums[j] 向右移动一位\n",
    "            j -= 1             #通过序号的循环加减，是实现数组中顺序数对的移动的常用方法\n",
    "        nums[j + 1] = base  # 将 当循环退出，证明nums[j]<base ，那么下一位就是base的正确位置\n",
    "        \n",
    "    return nums\n",
    "insertion_sort([1,4,4,5,6,4,32,1])\n",
    "# i=5 j=4, nums[j]是已排序部分的最右侧，如果其比base大，就说明base需要往左移动\n",
    "# 此时变为[1，4，4，5，4，6，32，1]"
   ]
  },
  {
   "cell_type": "code",
   "execution_count": 33,
   "id": "c10bc6f3",
   "metadata": {},
   "outputs": [
    {
     "data": {
      "text/plain": [
       "100"
      ]
     },
     "execution_count": 33,
     "metadata": {},
     "output_type": "execute_result"
    }
   ],
   "source": [
    "arr = [1,23,4,5,6,7,9]\n",
    "'''\n",
    "求第一个元素与第二个的和a1,第二个元素与第三个元素的和a2,....最后把结果加起来\n",
    "'''\n",
    "def add_list (list_exapmple:list):\n",
    "    acc = 0\n",
    "    for i in range(len(arr)-1):\n",
    "        j = i+1\n",
    "        acc += arr[i]+arr[j]\n",
    "    return acc\n",
    "add_list(arr)\n",
    "            "
   ]
  }
 ],
 "metadata": {
  "kernelspec": {
   "display_name": "Python 3",
   "language": "python",
   "name": "python3"
  },
  "language_info": {
   "codemirror_mode": {
    "name": "ipython",
    "version": 3
   },
   "file_extension": ".py",
   "mimetype": "text/x-python",
   "name": "python",
   "nbconvert_exporter": "python",
   "pygments_lexer": "ipython3",
   "version": "3.11.9"
  }
 },
 "nbformat": 4,
 "nbformat_minor": 5
}
