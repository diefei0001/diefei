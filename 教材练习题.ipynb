{
 "cells": [
  {
   "cell_type": "code",
   "execution_count": null,
   "metadata": {},
   "outputs": [],
   "source": [
    "'''计算pizza大小'''\n",
    "import math\n",
    "print(\"this program will help you calculate the area of pizza\")\n",
    "userinput_radius = float(input(\"please enter the radius\"))\n",
    "print(\"the area is\",area:=userinput_radius**2*math.pi)\n"
   ]
  },
  {
   "cell_type": "code",
   "execution_count": null,
   "metadata": {},
   "outputs": [],
   "source": [
    "'''℉转℃'''\n",
    "userinput_F = float(input(\"请输入一个华氏摄氏度\"))\n",
    "print(\"摄氏度是:\",transform_to_C:=(userinput_F-32)/1.8)"
   ]
  },
  {
   "cell_type": "code",
   "execution_count": null,
   "metadata": {},
   "outputs": [],
   "source": [
    "'''贵宾问题'''\n",
    "userinput_number =input(\"请输入一个三位数100-999\")\n",
    "total=sum(map(int,userinput_number))\n",
    "print(\"贵宾您好\"if total%7==0 else\"宾客您好\")"
   ]
  },
  {
   "cell_type": "code",
   "execution_count": null,
   "metadata": {},
   "outputs": [],
   "source": [
    "'''求根公式'''\n",
    "a,b,c = eval(input(\"请输入a,b,c的数值,用','分隔\"))\n",
    "print(x1:=(-b+(b**2-4*a*c)**0.5)/(2*a),x2:=(-b-(b**2-4*a*c)**0.5)/(2*a)) if b**2-4*a*c>=0 else print(\"没有实数解\")"
   ]
  },
  {
   "cell_type": "code",
   "execution_count": 32,
   "metadata": {},
   "outputs": [
    {
     "name": "stdout",
     "output_type": "stream",
     "text": [
      "价格最低的商场为天虹\n"
     ]
    }
   ],
   "source": [
    "'''百货公司折扣'''\n",
    "def TianHong_price(total_price:float) -> float:\n",
    "    discounts =[(1000,0.92),(3000,0.85),(5000,0.78)]\n",
    "    final_discount=0.7\n",
    "    for limit,discount in discounts:\n",
    "        if total_price<=limit:\n",
    "            final_discount=discount\n",
    "            break\n",
    "    return total_price*final_discount\n",
    "def YouYiXinTianDi_price(total_price:float) -> float:\n",
    "    return total_price if total_price<2000 else 2000+(total_price-2000)*0.7\n",
    "def DaLiFa_price(total_price:float) -> float:\n",
    "    return total_price if total_price<500 else total_price-(70*total_price//500)\n",
    "price_list=[]\n",
    "while True:\n",
    "    userinput_price =int(input(\"请输入商品单价\"))\n",
    "    if userinput_price==0:\n",
    "        break\n",
    "    userinput_quantities =int(input(\"请输入商品数量\"))\n",
    "    price_list.append(userinput_price*userinput_quantities)\n",
    "total_price = sum(price_list)\n",
    "total_price_dict={TianHong_price(total_price):'天虹',YouYiXinTianDi_price(total_price):'友谊新天地',DaLiFa_price(total_price):'大力发'}\n",
    "print(f\"价格最低的商场为{total_price_dict[min(total_price_dict.keys())]}\")\n"
   ]
  },
  {
   "cell_type": "code",
   "execution_count": null,
   "metadata": {},
   "outputs": [],
   "source": [
    "'''猜数字问题'''\n",
    "target_number=78\n",
    "count=0\n",
    "while True:\n",
    "    userinput_guess_number = int(input(\"请猜测\"))\n",
    "    count+=1\n",
    "    if userinput_guess_number==target_number:\n",
    "        print(f\"猜对了,猜测次数为:{count}\")\n",
    "        break\n",
    "    print(\"谜底数字比你猜的要大\"if userinput_guess_number<target_number else \"谜底数字比你猜的要小\")"
   ]
  },
  {
   "cell_type": "code",
   "execution_count": null,
   "metadata": {},
   "outputs": [],
   "source": [
    "'''九九乘法表'''\n",
    "for i in range(1,10):\n",
    "    for j in range(1,i+1):\n",
    "        print(f\"{j:>2}*{i}\",end=' ')\n",
    "    print()"
   ]
  },
  {
   "cell_type": "code",
   "execution_count": null,
   "metadata": {},
   "outputs": [
    {
     "name": "stdout",
     "output_type": "stream",
     "text": [
      "(1.4, 140)\n",
      "71.42857142857144\n"
     ]
    },
    {
     "data": {
      "text/plain": [
       "'肥胖'"
      ]
     },
     "execution_count": 63,
     "metadata": {},
     "output_type": "execute_result"
    }
   ],
   "source": [
    "'''身体质量指数'''\n",
    "def check_info(height:float,weight:float) -> float:\n",
    "    BMI=weight/height**2\n",
    "    print(BMI)\n",
    "    health_info=[(18.5,\"偏瘦\"),(24,'正常'),(28,'偏胖')]\n",
    "    final_info ='肥胖'\n",
    "    for limit, info in health_info:\n",
    "        if BMI<limit:\n",
    "            final_info= info\n",
    "            break\n",
    "    return final_info\n",
    "userinput_data =eval(input(\"请输入身高,体重\"))\n",
    "print(userinput_data)\n",
    "check_info(*userinput_data)\n",
    "\n"
   ]
  },
  {
   "cell_type": "code",
   "execution_count": 4,
   "metadata": {},
   "outputs": [
    {
     "name": "stdout",
     "output_type": "stream",
     "text": [
      "[4, 7, 7, 10] [3]\n",
      "三等奖\n"
     ]
    }
   ],
   "source": [
    "'''抽奖游戏'''\n",
    "import random\n",
    "sorted_target_black_ball_list=sorted(random.randint(1,10) for _ in range(4))\n",
    "sorted_target_white_ball_list=[random.randint(1,5)]\n",
    "print(sorted_target_black_ball_list,sorted_target_white_ball_list)\n",
    "userinput_black=[i for i in (eval(input(\"请输入4位黑球数字,用，分隔\")))]\n",
    "userinput_white=[eval(input(\"[请输入1位白球数字]\"))]\n",
    "Acc_white=1 if userinput_white==sorted_target_white_ball_list else 0\n",
    "Acc_black =0\n",
    "for user_guess,target in zip(userinput_black,sorted_target_black_ball_list):\n",
    "    if user_guess==target:\n",
    "        Acc_black+=1\n",
    "your_number=(Acc_black,Acc_white)\n",
    "prize_level = {\n",
    "            (4, 1): \"一等奖\",\n",
    "            (4, 0): \"二等奖\",\n",
    "            (3, 1): \"三等奖\",\n",
    "            (3, 0): \"四等奖\",\n",
    "            (2, 1): \"五等奖\",\n",
    "            (2, 0): \"六等奖\"\n",
    "        }\n",
    "match your_number:\n",
    "    case(x,y) if x in {4,3,2} and y in{0,1}:\n",
    "        print(f\"{prize_level[(x,y)]}\")  \n",
    "    case _:\n",
    "        print(\"没中奖\") \n",
    "    \n"
   ]
  },
  {
   "cell_type": "code",
   "execution_count": null,
   "metadata": {},
   "outputs": [],
   "source": []
  }
 ],
 "metadata": {
  "kernelspec": {
   "display_name": "Python",
   "language": "python",
   "name": "python3"
  },
  "language_info": {
   "codemirror_mode": {
    "name": "ipython",
    "version": 3
   },
   "file_extension": ".py",
   "mimetype": "text/x-python",
   "name": "python",
   "nbconvert_exporter": "python",
   "pygments_lexer": "ipython3",
   "version": "3.12.5"
  }
 },
 "nbformat": 4,
 "nbformat_minor": 2
}
