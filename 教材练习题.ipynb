{
 "cells": [
  {
   "cell_type": "code",
   "execution_count": null,
   "metadata": {},
   "outputs": [],
   "source": [
    "'''计算pizza大小'''\n",
    "import math\n",
    "print(\"this program will help you calculate the area of pizza\")\n",
    "userinput_radius = float(input(\"please enter the radius\"))\n",
    "print(\"the area is\",area:=userinput_radius**2*math.pi)\n"
   ]
  },
  {
   "cell_type": "code",
   "execution_count": null,
   "metadata": {},
   "outputs": [],
   "source": [
    "'''℉转℃'''\n",
    "userinput_F = float(input(\"请输入一个华氏摄氏度\"))\n",
    "print(\"摄氏度是:\",transform_to_C:=(userinput_F-32)/1.8)"
   ]
  },
  {
   "cell_type": "code",
   "execution_count": null,
   "metadata": {},
   "outputs": [],
   "source": [
    "'''贵宾问题'''\n",
    "userinput_number =input(\"请输入一个三位数100-999\")\n",
    "total=sum(map(int,userinput_number))\n",
    "print(\"贵宾您好\"if total%7==0 else\"宾客您好\")"
   ]
  },
  {
   "cell_type": "code",
   "execution_count": null,
   "metadata": {},
   "outputs": [],
   "source": [
    "'''求根公式'''\n",
    "a,b,c = eval(input(\"请输入a,b,c的数值,用','分隔\"))\n",
    "print(x1:=(-b+(b**2-4*a*c)**0.5)/(2*a),x2:=(-b-(b**2-4*a*c)**0.5)/(2*a)) if b**2-4*a*c>=0 else print(\"没有实数解\")"
   ]
  }
 ],
 "metadata": {
  "language_info": {
   "name": "python"
  }
 },
 "nbformat": 4,
 "nbformat_minor": 2
}
