{
 "cells": [
  {
   "cell_type": "code",
   "execution_count": null,
   "metadata": {},
   "outputs": [],
   "source": [
    "'''计算pizza大小'''\n",
    "import math\n",
    "print(\"this program will help you calculate the area of pizza\")\n",
    "userinput_radius = float(input(\"please enter the radius\"))\n",
    "print(\"the area is\",area:=userinput_radius**2*math.pi)\n"
   ]
  },
  {
   "cell_type": "code",
   "execution_count": null,
   "metadata": {},
   "outputs": [],
   "source": [
    "'''℉转℃'''\n",
    "userinput_F = float(input(\"请输入一个华氏摄氏度\"))\n",
    "print(\"摄氏度是:\",transform_to_C:=(userinput_F-32)/1.8)"
   ]
  },
  {
   "cell_type": "code",
   "execution_count": null,
   "metadata": {},
   "outputs": [],
   "source": [
    "'''贵宾问题'''\n",
    "userinput_number =input(\"请输入一个三位数100-999\")\n",
    "total=sum(map(int,userinput_number))\n",
    "print(\"贵宾您好\"if total%7==0 else\"宾客您好\")"
   ]
  },
  {
   "cell_type": "code",
   "execution_count": null,
   "metadata": {},
   "outputs": [],
   "source": [
    "'''求根公式'''\n",
    "a,b,c = eval(input(\"请输入a,b,c的数值,用','分隔\"))\n",
    "print(x1:=(-b+(b**2-4*a*c)**0.5)/(2*a),x2:=(-b-(b**2-4*a*c)**0.5)/(2*a)) if b**2-4*a*c>=0 else print(\"没有实数解\")"
   ]
  },
  {
   "cell_type": "code",
   "execution_count": 32,
   "metadata": {},
   "outputs": [
    {
     "name": "stdout",
     "output_type": "stream",
     "text": [
      "价格最低的商场为天虹\n"
     ]
    }
   ],
   "source": [
    "'''百货公司折扣'''\n",
    "def TianHong_price(total_price:float) -> float:\n",
    "    discounts =[(1000,0.92),(3000,0.85),(5000,0.78)]\n",
    "    final_discount=0.7\n",
    "    for limit,discount in discounts:\n",
    "        if total_price<=limit:\n",
    "            final_discount=discount\n",
    "            break\n",
    "    return total_price*final_discount\n",
    "def YouYiXinTianDi_price(total_price:float) -> float:\n",
    "    return total_price if total_price<2000 else 2000+(total_price-2000)*0.7\n",
    "def DaLiFa_price(total_price:float) -> float:\n",
    "    return total_price if total_price<500 else total_price-(70*total_price//500)\n",
    "price_list=[]\n",
    "while True:\n",
    "    userinput_price =int(input(\"请输入商品单价\"))\n",
    "    if userinput_price==0:\n",
    "        break\n",
    "    userinput_quantities =int(input(\"请输入商品数量\"))\n",
    "    price_list.append(userinput_price*userinput_quantities)\n",
    "total_price = sum(price_list)\n",
    "total_price_dict={TianHong_price(total_price):'天虹',YouYiXinTianDi_price(total_price):'友谊新天地',DaLiFa_price(total_price):'大力发'}\n",
    "print(f\"价格最低的商场为{total_price_dict[min(total_price_dict.keys())]}\")\n"
   ]
  },
  {
   "cell_type": "code",
   "execution_count": null,
   "metadata": {},
   "outputs": [],
   "source": [
    "'''猜数字问题'''\n",
    "target_number=78\n",
    "count=0\n",
    "while True:\n",
    "    userinput_guess_number = int(input(\"请猜测\"))\n",
    "    count+=1\n",
    "    if userinput_guess_number==target_number:\n",
    "        print(f\"猜对了,猜测次数为:{count}\")\n",
    "        break\n",
    "    print(\"谜底数字比你猜的要大\"if userinput_guess_number<target_number else \"谜底数字比你猜的要小\")"
   ]
  },
  {
   "cell_type": "code",
   "execution_count": null,
   "metadata": {},
   "outputs": [],
   "source": [
    "'''九九乘法表'''\n",
    "for i in range(1,10):\n",
    "    for j in range(1,i+1):\n",
    "        print(f\"{j:>2}*{i}\",end=' ')\n",
    "    print()"
   ]
  },
  {
   "cell_type": "code",
   "execution_count": null,
   "metadata": {},
   "outputs": [
    {
     "name": "stdout",
     "output_type": "stream",
     "text": [
      "(1.4, 140)\n",
      "71.42857142857144\n"
     ]
    },
    {
     "data": {
      "text/plain": [
       "'肥胖'"
      ]
     },
     "execution_count": 63,
     "metadata": {},
     "output_type": "execute_result"
    }
   ],
   "source": [
    "'''身体质量指数'''\n",
    "def check_info(height:float,weight:float) -> float:\n",
    "    BMI=weight/height**2\n",
    "    print(BMI)\n",
    "    health_info=[(18.5,\"偏瘦\"),(24,'正常'),(28,'偏胖')]\n",
    "    final_info ='肥胖'\n",
    "    for limit, info in health_info:\n",
    "        if BMI<limit:\n",
    "            final_info= info\n",
    "            break\n",
    "    return final_info\n",
    "userinput_data =eval(input(\"请输入身高,体重\"))\n",
    "print(userinput_data)\n",
    "check_info(*userinput_data)\n",
    "\n"
   ]
  },
  {
   "cell_type": "code",
   "execution_count": 4,
   "metadata": {},
   "outputs": [
    {
     "name": "stdout",
     "output_type": "stream",
     "text": [
      "[4, 7, 7, 10] [3]\n",
      "三等奖\n"
     ]
    }
   ],
   "source": [
    "'''抽奖游戏'''\n",
    "import random\n",
    "sorted_target_black_ball_list=sorted(random.randint(1,10) for _ in range(4))\n",
    "sorted_target_white_ball_list=[random.randint(1,5)]\n",
    "print(sorted_target_black_ball_list,sorted_target_white_ball_list)\n",
    "userinput_black=[i for i in (eval(input(\"请输入4位黑球数字,用，分隔\")))]\n",
    "userinput_white=[eval(input(\"[请输入1位白球数字]\"))]\n",
    "Acc_white=1 if userinput_white==sorted_target_white_ball_list else 0\n",
    "Acc_black =0\n",
    "Acc_black += sum(1 for user_guess, target in zip(userinput_black, sorted_target_black_ball_list) if user_guess == target)\n",
    "your_number=(Acc_black,Acc_white)\n",
    "prize_level = {\n",
    "            (4, 1): \"一等奖\",\n",
    "            (4, 0): \"二等奖\",\n",
    "            (3, 1): \"三等奖\",\n",
    "            (3, 0): \"四等奖\",\n",
    "            (2, 1): \"五等奖\",\n",
    "            (2, 0): \"六等奖\"\n",
    "        }\n",
    "match your_number:\n",
    "    case(x,y) if x in {4,3,2} and y in{0,1}:\n",
    "        print(f\"{prize_level[(x,y)]}\")  \n",
    "    case _:\n",
    "        print(\"没中奖\") "
   ]
  },
  {
   "cell_type": "code",
   "execution_count": null,
   "metadata": {},
   "outputs": [],
   "source": [
    "'''二进制转换'''\n",
    "userinput_number=int(input(\"请输入数字\"))\n",
    "calculate_number=userinput_number\n",
    "remainder_list=[]\n",
    "remainder=userinput_number%2\n",
    "while True:\n",
    "    quotient=calculate_number//2\n",
    "    remainder=calculate_number%2\n",
    "    remainder_list.append(remainder)\n",
    "    calculate_number=quotient\n",
    "    if quotient==0:\n",
    "        break\n",
    "remainder_list.reverse()\n",
    "str1=\"\".join(map(str,remainder_list))\n",
    "print(f\"{userinput_number}={str1}(B)\")"
   ]
  },
  {
   "cell_type": "code",
   "execution_count": null,
   "metadata": {},
   "outputs": [],
   "source": [
    "'''名单去重'''\n",
    "from collections import Counter\n",
    "myfriend=[\n",
    "    \"彭家龙\",\"托乐克\",\"刘俊\",\n",
    "    \"李立恒\",\"许海骏\",\"吴展鹏\",\n",
    "    \"托乐克\",\"托乐克\",\"托乐克\",\n",
    "    \"刘俊\",\"李立恒\",\"托乐克\",\n",
    "    \"刘俊\",\"许海骏\",\"彭家龙\",\n",
    "    \"许海骏\"\n",
    "]\n",
    "def delete_name(name:str) -> str:\n",
    "    global myfriend\n",
    "    myfriend=[friend for friend in myfriend if friend!=name]\n",
    "    return myfriend\n",
    "if __name__ ==\"__main__\":\n",
    "    userinput=input(\"请输入名字\")\n",
    "    deleted_list=delete_name(userinput)\n",
    "    print(f\"删除联系人后的名单为{deleted_list}\")\n",
    "    counter=Counter(myfriend)\n",
    "    print(f\"去重后的名单为{list(counter.keys())}\")"
   ]
  },
  {
   "cell_type": "code",
   "execution_count": 1,
   "metadata": {},
   "outputs": [
    {
     "name": "stdout",
     "output_type": "stream",
     "text": [
      "7位评委打分为[76.7, 92.6, 85.5, 82.0, 83.7, 71.2, 79.2]\n",
      "去掉一个最高分、一个最低分后的打分（由高到低）:[85.5, 83.7, 82.0, 79.2, 76.7]\n",
      "该选手的最终得分为81.41999999999999\n"
     ]
    }
   ],
   "source": [
    "'''演讲比赛评分'''\n",
    "import random\n",
    "userinput_judges_quantities=int(input(\"请输入评委数量\"))\n",
    "score_list=[70+round(random.random()*30,1)for _ in range(userinput_judges_quantities)]\n",
    "print(f\"{userinput_judges_quantities}位评委打分为{score_list}\")\n",
    "sorted_score_list=sorted(score_list,reverse=True)[1:-1]\n",
    "print(f\"去掉一个最高分、一个最低分后的打分（由高到低）:{sorted_score_list}\")\n",
    "finally_score = sum(sorted_score_list)/len(sorted_score_list)\n",
    "print(f\"该选手的最终得分为{finally_score}\")\n"
   ]
  },
  {
   "cell_type": "code",
   "execution_count": 1,
   "metadata": {},
   "outputs": [
    {
     "name": "stdout",
     "output_type": "stream",
     "text": [
      "第1行的内容为: 莫绍谦的眼睛虚无地盯着前方，仿佛陷在了回忆里\n",
      "第2行的内容为: 他缓缓地说：“知道他去世的那天，我一个人坐在这个阁楼里，没有哭\n",
      "第3行的内容为: 我默默地把这些东西收拾好，然后对着这张照片坐了一夜。第二天我就回国了\n",
      "第4行的内容为: 紧锣密鼓地筹备复兴莫氏的事情。我在这里待了二十三年，所有的回忆、所有的朋友都在这里\n",
      "第5行的内容为: 那天晚上是一个告别，我告诉自己，要想变得强大，就要学会割舍\n",
      "第6行的内容为: 他看了看我，“可是，我放不下父亲的死，他是我人生的导师，虽然时常见不到他\n",
      "第7行的内容为: 但他对我的影响很大。所以，关于报仇，我一刻也没有忘记过\n",
      "情报是:前放告世把以\n"
     ]
    }
   ],
   "source": [
    "'''情报编译'''\n",
    "code_book =('''莫绍谦的眼睛虚无地盯着前方，仿佛陷在了回忆里\n",
    "他缓缓地说：“知道他去世的那天，我一个人坐在这个阁楼里，没有哭\n",
    "我默默地把这些东西收拾好，然后对着这张照片坐了一夜。第二天我就回国了\n",
    "紧锣密鼓地筹备复兴莫氏的事情。我在这里待了二十三年，所有的回忆、所有的朋友都在这里\n",
    "那天晚上是一个告别，我告诉自己，要想变得强大，就要学会割舍\n",
    "他看了看我，“可是，我放不下父亲的死，他是我人生的导师，虽然时常见不到他\n",
    "但他对我的影响很大。所以，关于报仇，我一刻也没有忘记过''')\n",
    "code_book_list=code_book.splitlines()\n",
    "for index ,line in enumerate(code_book.splitlines()):\n",
    "    print(f\"第{index+1}行的内容为: {line}\")\n",
    "code=\"0011,0511,0411,0111,0204,0611\"\n",
    "code_list=[code for code in code.split(\",\")]\n",
    "information=\"\"\n",
    "for code in code_list:\n",
    "    row=int(code[:2])\n",
    "    column =int(code[2:])\n",
    "    information+=code_book_list[row][column]\n",
    "print(f\"情报是:{information}\")"
   ]
  },
  {
   "cell_type": "code",
   "execution_count": null,
   "metadata": {},
   "outputs": [],
   "source": [
    "'''回文检测'''\n",
    "def check_Palindrome(text:str) -> str:\n",
    "    print(f\"{text}回文\"if text==text[::-1]else f\"{text}不回文\")\n",
    "if __name__==\"__main__\":\n",
    "    userinput_str= input(\"请输入文本\")\n",
    "    check_Palindrome(userinput_str)"
   ]
  },
  {
   "cell_type": "code",
   "execution_count": null,
   "metadata": {},
   "outputs": [],
   "source": [
    "'''字符串循环左移'''\n",
    "userinput_str=input('请输入字符串')\n",
    "userinput_times=int(input(\"请输入向左循环次数\"))\n",
    "print(userinput_str[userinput_times:]+userinput_str[0:userinput_times])"
   ]
  },
  {
   "cell_type": "code",
   "execution_count": 12,
   "metadata": {},
   "outputs": [
    {
     "name": "stdout",
     "output_type": "stream",
     "text": [
      "703\n"
     ]
    }
   ],
   "source": [
    "'''Excel列转十进制'''\n",
    "alphabet_list=[letter for letter in \"A B C D E F G H I J K L M N O P Q R S T U V W X Y Z\".split(\" \")]\n",
    "alphabet_list2=[letter1+letter2 for letter1 in alphabet_list for letter2 in alphabet_list]\n",
    "alphabet_list3=[letter1+letter2+letter3 for letter1 in alphabet_list for letter2 in alphabet_list for letter3 in alphabet_list]\n",
    "final_list=alphabet_list+alphabet_list2+alphabet_list3\n",
    "userinput=\"AAA\"\n",
    "result=final_list.index(userinput)+1\n",
    "print(result)"
   ]
  },
  {
   "cell_type": "code",
   "execution_count": 8,
   "metadata": {},
   "outputs": [
    {
     "name": "stdout",
     "output_type": "stream",
     "text": [
      "18278\n"
     ]
    }
   ],
   "source": [
    "'''Excel列转十进制'''\n",
    "number=0\n",
    "userinput_str=input(\"请输入\")\n",
    "for chr in userinput_str:\n",
    "    x=ord(chr)-ord(\"A\")+1\n",
    "    number = 26*number+x\n",
    "print(number)"
   ]
  },
  {
   "cell_type": "code",
   "execution_count": 9,
   "metadata": {},
   "outputs": [
    {
     "name": "stdout",
     "output_type": "stream",
     "text": [
      "703\n"
     ]
    }
   ],
   "source": [
    "'''Excel列转十进制'''\n",
    "alphabet_list = [letter for letter in \"A B C D E F G H I J K L M N O P Q R S T U V W X Y Z\".split(\" \")]\n",
    "userinput_str=input(\"请输入\")\n",
    "acc = 0\n",
    "for index, chr in enumerate(userinput_str[::-1]):\n",
    "    acc += (alphabet_list.index(chr) + 1) * (26 ** index)\n",
    "print(acc)"
   ]
  },
  {
   "cell_type": "code",
   "execution_count": 3,
   "metadata": {},
   "outputs": [
    {
     "name": "stdout",
     "output_type": "stream",
     "text": [
      "商品编号    商品名称    商品价格    商品数量    小计    "
     ]
    }
   ],
   "source": [
    "'''购物车'''\n",
    "instock_dict={101:(\"签字笔(黑)\",3),\n",
    "           102:(\"签字笔(红)\",3),\n",
    "           103:(\"荧光笔\",10),\n",
    "           104:(\"铅笔\",2),\n",
    "           201:(\"笔记本A4\",18,5),\n",
    "           202:(\"笔记本B5\",14),\n",
    "           203:(\"练习本A4\",2.5),\n",
    "           204:(\"练习本B5\",2)\n",
    "           }\n",
    "Cart_car_dict={}\n",
    "\n",
    "while True:\n",
    "    commodity_number=int((input(\"请输入商品编号\")))\n",
    "    if commodity_number in number_list:\n",
    "        print(f\"你已经选购该商品!,数量为：{}\")\n",
    "        continue\n",
    "    if commodity_number not in instock_dict.keys():\n",
    "        print(\"该商品不存在\")\n",
    "        continue\n",
    "    if commodity_number==-1:\n",
    "        break\n",
    "    number_list.append(commodity_number)\n",
    "    purchase_quantities=int(input(\"购买数量\"))\n",
    "    purchase_lsit.append(purchase_quantities)\n",
    "info1=(\"商品编号\",\"商品名称\",\"商品价格\",\"商品数量\",\"小计\")\n",
    "print(f\"{info1[0]:<10}{info1[1]:<10}{info1[2]:<10}{info1[3]:<10}{info1[4]:<10}\",end='')\n",
    "acc=0\n",
    "for number,quantity in zip(number_list,purchase_lsit):\n",
    "    name=instock_dict[number][0]\n",
    "    price=instock_dict[number][1]\n",
    "    total_price=price*quantity\n",
    "    acc+=total_price\n",
    "    print()\n",
    "    print(f\"{number:<10} {name:<10}{price:<10}{quantity:<10}{total_price:<10}\",end=\"\")\n",
    "print(f\"\\n总价:{acc}\")"
   ]
  },
  {
   "cell_type": "code",
   "execution_count": null,
   "metadata": {},
   "outputs": [],
   "source": [
    "'''用户注册'''\n",
    "userdata_dict={}\n",
    "while True:\n",
    "    username_input=input(\"请输入用户名\")\n",
    "    if username_input==\"-1\":\n",
    "        break\n",
    "    if username_input in userdata_dict.keys():\n",
    "        print(\"用户名存在,请重新输入\")\n",
    "        continue\n",
    "    passwd_input=input(\"请输入密码\")\n",
    "    userdata_dict[username_input]=passwd_input\n",
    "for name,passwd in userdata_dict.items():\n",
    "    print(f\"{name}:{passwd}\")\n",
    "    "
   ]
  },
  {
   "cell_type": "code",
   "execution_count": 2,
   "metadata": {},
   "outputs": [
    {
     "name": "stdout",
     "output_type": "stream",
     "text": [
      "30\n"
     ]
    }
   ],
   "source": [
    "''''城市数量'''\n",
    "city_dict = {\n",
    "    '广东': [\"广州\", \"深圳\", \"佛山\", \"东莞\", \"珠海\", \"中山\", \"惠州\", \"汕头\", \"湛江\", \"肇庆\"],\n",
    "    '江苏': [\"南京\", \"苏州\", \"无锡\", \"常州\", \"南通\", \"扬州\", \"盐城\", \"徐州\", \"连云港\", \"淮安\"],\n",
    "    '浙江': [\"杭州\", \"宁波\", \"温州\", \"绍兴\", \"嘉兴\", \"金华\", \"台州\", \"丽水\", \"湖州\", \"舟山\"]\n",
    "}\n",
    "new_list=[item for sublist in city_dict.values() for item in sublist]\n",
    "quantities=len(new_list)\n",
    "print(quantities)\n"
   ]
  },
  {
   "cell_type": "code",
   "execution_count": null,
   "metadata": {},
   "outputs": [],
   "source": [
    "'''点菜'''\n",
    "food_dict={\n",
    "    101:{\"鱼香肉丝\":38},\n",
    "    102:{\"小炒肉\":32},\n",
    "    103:{\"红烧鲈鱼\":48},\n",
    "    104:{\"四喜丸子\":48},\n",
    "    201:{\"红油鸡丝\":38},\n",
    "    202:{\"凉拌土豆丝\":22},\n",
    "    203:{\"芥末木耳\":25},\n",
    "    204:{\"白灼青菜\":20},\n",
    "}\n",
    "food_list=[]\n",
    "while True:\n",
    "    food_name_input=int(input(\"请输入编号\"))\n",
    "    if food_name_input==-1:\n",
    "        break\n",
    "    if food_name_input not in food_dict.keys():\n",
    "        print(\"菜单编号不存在，请重新输入\")\n",
    "        continue\n",
    "    food_list.append(food_name_input)\n",
    "print(food_list)\n",
    "print(\"你的点菜情况如下:\")\n",
    "total_price=0\n",
    "for index in food_list:\n",
    "    for keys,values,in food_dict[index].items():\n",
    "        total_price+=values\n",
    "        print(f\"{keys:<5}\",end=\"\")\n",
    "print(f\"\\n总价:{total_price}\")"
   ]
  },
  {
   "cell_type": "code",
   "execution_count": null,
   "metadata": {},
   "outputs": [],
   "source": []
  }
 ],
 "metadata": {
  "kernelspec": {
   "display_name": "pythonProject",
   "language": "python",
   "name": "python3"
  },
  "language_info": {
   "codemirror_mode": {
    "name": "ipython",
    "version": 3
   },
   "file_extension": ".py",
   "mimetype": "text/x-python",
   "name": "python",
   "nbconvert_exporter": "python",
   "pygments_lexer": "ipython3",
   "version": "3.11.10"
  }
 },
 "nbformat": 4,
 "nbformat_minor": 2
}
