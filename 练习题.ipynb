{
 "cells": [
  {
   "cell_type": "code",
   "execution_count": null,
   "metadata": {},
   "outputs": [],
   "source": [
    "'''\n",
    "练习题1:ord和chr( )\n",
    "'''\n",
    "while True:\n",
    "    user_input=input(\"请输入一个小写字母:\")\n",
    "    Valid_input =user_input.isalpha() and user_input.islower()\n",
    "    if Valid_input:\n",
    "        print(f\"{user_input} 的 ASCII 值是 {ord(str(user_input))} \")\n",
    "        print(f\"ASCII 值 {ord(str(user_input))}对应的字母是 {chr(ord(str(user_input)))}  \")\n",
    "    else:\n",
    "        print(\"输入无效，请重新输入一个小写字母.\")"
   ]
  },
  {
   "cell_type": "code",
   "execution_count": null,
   "metadata": {},
   "outputs": [],
   "source": [
    "'''\n",
    "练习题 2:格式化输出与输入验证\n",
    "'''\n",
    "userinput_name = input(\"请输入名字\")\n",
    "while True:\n",
    "    try:\n",
    "        userinput_age = int(input(\"请输入年龄\"))\n",
    "        break\n",
    "    except ValueError:\n",
    "        print(\"年龄处请输入数字!\")\n",
    "userinput_sex = input(\"请输入性别\")\n",
    "userinput_city = input(\"请输入城市\")\n",
    "print(f\"姓名:{userinput_name}-年龄:{userinput_age}-性别:{userinput_sex}-城市:{userinput_city}\")"
   ]
  },
  {
   "cell_type": "code",
   "execution_count": null,
   "metadata": {},
   "outputs": [],
   "source": [
    "'''\n",
    "练习题3:四则运算\n",
    "'''\n",
    "while True:\n",
    "    try:\n",
    "        userinput_number1 = int(input(\"请输入数字1\"))\n",
    "        userinput_number2 = int(input(\"请输入数字2\"))\n",
    "        break\n",
    "    except ValueError :\n",
    "        print(\"请输入有效数字\")\n",
    "userinput_operator = input('请选择:\"+\",\"-\",\"*\",\"/\"')\n",
    "match userinput_operator:\n",
    "    case \"+\":\n",
    "        add_result=userinput_number1+userinput_number2\n",
    "        print(f\"{userinput_number1}+{userinput_number2}={add_result}\")\n",
    "    case \"-\":\n",
    "        minus_result= userinput_number1-userinput_number2\n",
    "        print(f\"{userinput_number1}-{userinput_number2}={minus_result}\")\n",
    "    case \"*\":\n",
    "        multiply_result= userinput_number1*userinput_number2\n",
    "        print(f\"{userinput_number1}*{userinput_number2}={multiply_result}\")\n",
    "    case \"/\":\n",
    "        while True:\n",
    "            try:\n",
    "                divided_result= userinput_number1/userinput_number2\n",
    "                print(f\"{userinput_number1}/{userinput_number2}={divided_result}\")\n",
    "                break\n",
    "            except ZeroDivisionError:\n",
    "                print(\"0不能做除数\")\n",
    "                userinput_number2=int(input(\"请重新输入除数\"))\n"
   ]
  },
  {
   "cell_type": "code",
   "execution_count": null,
   "metadata": {},
   "outputs": [],
   "source": [
    "'''\n",
    "练习题 4:用户登录系统\n",
    "'''\n",
    "pwd={\"diefei\":\"AZaz09wasd\",\"Enqi\":\"123456\",\"root\":1}\n",
    "userinput_username=input(\"请输入用户名\")\n",
    "userinput_password=input(\"请输入密码\")\n",
    "count=0\n",
    "if userinput_username in pwd.keys():\n",
    "    while True:\n",
    "        count+=1\n",
    "        try_times=3-count\n",
    "        match userinput_username:\n",
    "            case \"diefei\":\n",
    "                if userinput_password==pwd[\"diefei\"]:\n",
    "                    print(\"欢迎,diefei\")\n",
    "                    break\n",
    "                if try_times==0:\n",
    "                    print(\"登录失败\")\n",
    "                    break\n",
    "                else:\n",
    "                    userinput_password=input(f\"请重新输入密码,您还剩余{try_times}次机会\")\n",
    "            case \"Enqi\":\n",
    "                if userinput_password==pwd[\"Enqi\"]:\n",
    "                    print(\"欢迎,Enqi\")\n",
    "                    break\n",
    "                if try_times==0:\n",
    "                    print(\"登录失败\")\n",
    "                    break\n",
    "                else:\n",
    "                    userinput_password=input(f\"请重新输入密码,您还剩余{try_times}次机会\")\n",
    "else:\n",
    "    userinput_username=input(\"用户名错误,请重新输入用户名\")"
   ]
  },
  {
   "cell_type": "code",
   "execution_count": null,
   "metadata": {},
   "outputs": [],
   "source": [
    "'''\n",
    "练习题5:多类型数据处理\n",
    "'''\n",
    "flaten_list =[]\n",
    "def normalize_to_int_list(data):\n",
    "    if isinstance(data,int):\n",
    "        flaten_list.append(data)\n",
    "    if isinstance(data,str):\n",
    "        try:\n",
    "            for chr in data.split(\",\"):\n",
    "                flaten_list.append(int(chr))\n",
    "        except ValueError:\n",
    "            print(f\"ValueError,无法将{data}转为整数\")\n",
    "    if isinstance(data,list):\n",
    "        for item in data:\n",
    "            normalize_to_int_list(item)\n",
    "    return flaten_list    \n",
    "userinput=eval(input(\"请输入整数,或是包含整数的字符串,列表\"))\n",
    "normalize_to_int_list(userinput)\n",
    "print(flaten_list)"
   ]
  },
  {
   "cell_type": "code",
   "execution_count": null,
   "metadata": {},
   "outputs": [],
   "source": [
    "'''\n",
    "练习题6:多类型字典清理\n",
    "'''\n",
    "from collections import defaultdict\n",
    "\n",
    "def list_deal(list1):\n",
    "    new_dict={x:y for x,y in enumerate(list1)}\n",
    "    return new_dict\n",
    "cleaned_dict=defaultdict(list)\n",
    "def clean_and_group_dict(data):\n",
    "    for keys,values in data.items():\n",
    "        match values:\n",
    "            case int()|float():\n",
    "                    cleaned_dict[\"numbers\"].append(values)\n",
    "            case str():\n",
    "                    cleaned_dict[\"strings\"].append(values)\n",
    "            case list():\n",
    "                    clean_and_group_dict(list_deal(values))\n",
    "            case dict():\n",
    "                    clean_and_group_dict(values)\n",
    "            case _:\n",
    "                pass\n",
    "    return cleaned_dict\n",
    "userinput=eval(input(\"请输入数据\"))\n",
    "print(dict(clean_and_group_dict(userinput)))\n"
   ]
  },
  {
   "cell_type": "code",
   "execution_count": 7,
   "metadata": {},
   "outputs": [
    {
     "name": "stdout",
     "output_type": "stream",
     "text": [
      "False\n"
     ]
    }
   ],
   "source": [
    "'''\n",
    "练习题7:理解布尔值的复杂逻辑运算\n",
    "'''\n",
    "a = True\n",
    "b = False\n",
    "c = None\n",
    "\n",
    "# 第一步\n",
    "step1 = a or b and c\n",
    "\n",
    "# 第二步\n",
    "step2 = not step1\n",
    "\n",
    "# 第三步\n",
    "result = (step1 and b) or (step2 and not c)\n",
    "print(result)"
   ]
  },
  {
   "cell_type": "code",
   "execution_count": null,
   "metadata": {},
   "outputs": [],
   "source": [
    "'''\n",
    "练习题8:特殊的奇数:\n",
    "'''\n",
    "user_input=input(\"请输入数字\")\n",
    "is_special_odd_number= int(user_input)%2 !=0 and sum([int(i) for i in str(abs(int(user_input)))])%2==0\n",
    "print(\"Yes\"if is_special_odd_number else \"No\")\n"
   ]
  },
  {
   "cell_type": "code",
   "execution_count": null,
   "metadata": {},
   "outputs": [],
   "source": [
    "'''\n",
    "练习题9:布尔标记法\n",
    "'''\n",
    "'''\n",
    "筛选素数:\n",
    "'''\n",
    "for i in range(2,101):\n",
    "    is_prime=True \n",
    "    '''\n",
    "    在实际编程中,if 语句常用于过滤无效数据、执行特定逻辑或优化算法运行。例如，可以结合布尔标记法实现动态选择。\n",
    "    '''\n",
    "    if i >2 and i%2==0:\n",
    "        continue\n",
    "    for j in range(2,int(i**0.5)+1):\n",
    "        if i%j==0:\n",
    "            is_prime=False\n",
    "            break\n",
    "    if is_prime:\n",
    "        print(i)\n",
    "'''\n",
    "下面是时间复杂度更低的优化算法,也称为埃拉托色尼筛法,埃拉托色尼筛法是布尔标记法的典型应用:\n",
    "'''\n",
    "def sieve_of_eratosthenes(limit):\n",
    "    sieve = [True] * (limit + 1)\n",
    "    sieve[0] = sieve[1] = False\n",
    "    for i in range(2, int(limit ** 0.5) + 1):\n",
    "        if sieve[i]:\n",
    "            for j in range(i * i, limit + 1, i):\n",
    "                sieve[j] = False\n",
    "    return [num for num, is_prime in enumerate(sieve) if is_prime]\n",
    "result_list = sieve_of_eratosthenes(100)\n",
    "print(result_list)\n",
    "'''\n",
    "筛选特殊的奇数:\n",
    "'''\n",
    "def bool_pass(limit):\n",
    "    bool_list=[True]*(limit+1)\n",
    "    for i in range(0,limit+1):\n",
    "        if i%2==0 or sum([int(chr) for chr in str(i)])%2==1:\n",
    "            bool_list[i]=False\n",
    "    return [num for num,is_odd in enumerate(bool_list) if is_odd]\n",
    "result_list= bool_pass(100)\n",
    "print(result_list)\n"
   ]
  },
  {
   "cell_type": "code",
   "execution_count": null,
   "metadata": {},
   "outputs": [
    {
     "name": "stdout",
     "output_type": "stream",
     "text": [
      "所有可能的排列组合为：[1234, 1243, 1324, 1342, 1423, 1432, 2134, 2143, 2314, 2341, 2413, 2431, 3124, 3142, 3214, 3241, 3412, 3421, 4123, 4132, 4213, 4231, 4312, 4321]\n"
     ]
    }
   ],
   "source": [
    "# 定义函数生成排列\n",
    "\n"
   ]
  },
  {
   "cell_type": "code",
   "execution_count": null,
   "metadata": {},
   "outputs": [],
   "source": []
  }
 ],
 "metadata": {
  "kernelspec": {
   "display_name": "base",
   "language": "python",
   "name": "python3"
  },
  "language_info": {
   "codemirror_mode": {
    "name": "ipython",
    "version": 3
   },
   "file_extension": ".py",
   "mimetype": "text/x-python",
   "name": "python",
   "nbconvert_exporter": "python",
   "pygments_lexer": "ipython3",
   "version": "3.12.4"
  }
 },
 "nbformat": 4,
 "nbformat_minor": 2
}
